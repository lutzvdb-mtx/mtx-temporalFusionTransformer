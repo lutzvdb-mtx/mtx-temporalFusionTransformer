{
 "cells": [
  {
   "cell_type": "code",
   "execution_count": 2,
   "metadata": {},
   "outputs": [],
   "source": [
    "from lightning.pytorch.tuner import Tuner\n",
    "from pytorch_forecasting.models.temporal_fusion_transformer.tuning import optimize_hyperparameters\n",
    "from pytorch_forecasting.metrics import MAE, SMAPE, MAPE, PoissonLoss, QuantileLoss\n",
    "from pytorch_forecasting.data import GroupNormalizer\n",
    "from pytorch_forecasting import Baseline, TemporalFusionTransformer, TimeSeriesDataSet\n",
    "import torch\n",
    "import pandas as pd\n",
    "import numpy as np\n",
    "from lightning.pytorch.loggers import TensorBoardLogger\n",
    "from lightning.pytorch.callbacks import EarlyStopping, LearningRateMonitor\n",
    "import lightning.pytorch as pl\n",
    "import math\n"
   ]
  },
  {
   "cell_type": "code",
   "execution_count": 30,
   "metadata": {},
   "outputs": [],
   "source": [
    "\n",
    "data = pd.read_csv(\"Spieldatensatz.csv\")"
   ]
  },
  {
   "cell_type": "code",
   "execution_count": 110,
   "metadata": {},
   "outputs": [],
   "source": [
    "data_simple = data[[\"Date\", \"Branch\", \"Group\", \"Sales\", \"Monat\",\n",
    "                    \"TagImMonat\", \"Jahr\", \"MTXWTH_Temp_max\", \"MTXWTH_Rain\", \"ShiftLength\",\n",
    "                    \"NotCondensed_ErsterMai\", \"NotCondensed_ErsterWeihnachtstag\",\n",
    "                    \"NotCondensed_Heiligabend\", \"NotCondensed_Himmelfahrt\",\n",
    "                    \"NotCondensed_Karfreitag\", \"NotCondensed_Karsamstag\",\n",
    "                    \"NotCondensed_Neujahr\", \"NotCondensed_Ostermontag\",\n",
    "                    \"NotCondensed_Ostersonntag\", \"NotCondensed_Pfingstmontag\",\n",
    "                    \"NotCondensed_Pfingstsonntag\", \"NotCondensed_Silvester\",\n",
    "                    \"NotCondensed_TagDerDeutschenEinheit\", \"NotCondensed_ZweiterWeihnachtstag\"]]\n",
    "data_simple = data_simple[data_simple[\"Branch\"] < 11]\n",
    "data_simple = data_simple[data_simple[\"Sales\"].apply(math.isnan) == False]\n",
    "data_simple = data_simple[data_simple[\"ShiftLength\"].apply(math.isnan) == False]\n",
    "data_simple[\"Date\"] = pd.to_datetime(data_simple[\"Date\"], format=\"%Y-%m-%d\")\n",
    "first_date = min(data_simple[\"Date\"])\n",
    "last_date = max(data_simple[\"Date\"])\n",
    "data_simple[\"time_idx\"] = (data_simple[\"Date\"] - first_date).dt.days\n",
    "data_simple = data_simple.drop(\"Date\", axis = 1)\n",
    "\n",
    "# Categorical variables _have_ to be string\n",
    "data_simple[\"Branch\"] = data_simple[\"Branch\"].apply(str)\n",
    "data_simple[\"Group\"] = data_simple[\"Group\"].apply(str)\n",
    "data_simple[\"Monat\"] = data_simple[\"Monat\"].apply(str)\n",
    "data_simple[\"TagImMonat\"] = data_simple[\"TagImMonat\"].apply(str)\n",
    "holidays = [\"NotCondensed_ErsterMai\", \"NotCondensed_ErsterWeihnachtstag\",\n",
    "            \"NotCondensed_Heiligabend\", \"NotCondensed_Himmelfahrt\",\n",
    "            \"NotCondensed_Karfreitag\", \"NotCondensed_Karsamstag\",\n",
    "            \"NotCondensed_Neujahr\", \"NotCondensed_Ostermontag\",\n",
    "            \"NotCondensed_Ostersonntag\", \"NotCondensed_Pfingstmontag\",\n",
    "            \"NotCondensed_Pfingstsonntag\", \"NotCondensed_Silvester\",\n",
    "            \"NotCondensed_TagDerDeutschenEinheit\", \"NotCondensed_ZweiterWeihnachtstag\"]\n",
    "for hol in holidays:\n",
    "    data_simple[hol] = data_simple[hol].apply(str)\n",
    "\n",
    "categoricals = [\"Monat\", \"TagImMonat\"]\n",
    "categoricals.extend(holidays)"
   ]
  },
  {
   "cell_type": "code",
   "execution_count": 72,
   "metadata": {},
   "outputs": [],
   "source": [
    "\n",
    "max_prediction_length = 3\n",
    "max_encoder_length = 14\n",
    "training_cutoff = data_simple[\"time_idx\"].max() - 365\n",
    "\n",
    "training = TimeSeriesDataSet(\n",
    "    data_simple[lambda x: x.time_idx <= training_cutoff],\n",
    "    time_idx=\"time_idx\",\n",
    "    target=\"Sales\",\n",
    "    group_ids=[\"Branch\", \"Group\"],\n",
    "    # keep encoder length long (as it is in the validation set)\n",
    "    min_encoder_length=max_encoder_length // 2,\n",
    "    max_encoder_length=max_encoder_length,\n",
    "    min_prediction_length=1,\n",
    "    max_prediction_length=max_prediction_length,\n",
    "    static_categoricals=[\"Branch\", \"Group\"],\n",
    "    static_reals=[],\n",
    "    time_varying_known_categoricals=categoricals,\n",
    "    time_varying_known_reals=[\"time_idx\",\n",
    "                              \"MTXWTH_Temp_max\", \"MTXWTH_Rain\", \"ShiftLength\"],\n",
    "    time_varying_unknown_categoricals=[],\n",
    "    time_varying_unknown_reals=[],\n",
    "    target_normalizer=GroupNormalizer(\n",
    "        groups=[\"Branch\", \"Group\"], transformation=\"softplus\"\n",
    "    ),  # use softplus and normalize by group\n",
    "    add_relative_time_idx=True,\n",
    "    add_target_scales=True,\n",
    "    add_encoder_length=True,\n",
    "    allow_missing_timesteps=True\n",
    ")\n",
    "\n",
    "# create validation set (predict=True) which means to predict the last max_prediction_length points in time\n",
    "# for each series\n",
    "validation = TimeSeriesDataSet.from_dataset(\n",
    "    training, data_simple, predict=True, stop_randomization=True)\n",
    "\n",
    "# create dataloaders for model\n",
    "batch_size = 128  # set this between 32 to 128\n",
    "train_dataloader = training.to_dataloader(\n",
    "    train=True, batch_size=batch_size, num_workers=0)\n",
    "val_dataloader = validation.to_dataloader(\n",
    "    train=False, batch_size=batch_size * 10, num_workers=0)"
   ]
  },
  {
   "cell_type": "code",
   "execution_count": 51,
   "metadata": {},
   "outputs": [
    {
     "name": "stderr",
     "output_type": "stream",
     "text": [
      "Global seed set to 42\n",
      "c:\\Users\\lvdburchard\\AppData\\Local\\Programs\\Python\\Python310\\lib\\site-packages\\lightning\\pytorch\\utilities\\parsing.py:196: UserWarning: Attribute 'loss' is an instance of `nn.Module` and is already saved during checkpointing. It is recommended to ignore them using `self.save_hyperparameters(ignore=['loss'])`.\n",
      "  rank_zero_warn(\n",
      "c:\\Users\\lvdburchard\\AppData\\Local\\Programs\\Python\\Python310\\lib\\site-packages\\lightning\\pytorch\\utilities\\parsing.py:196: UserWarning: Attribute 'logging_metrics' is an instance of `nn.Module` and is already saved during checkpointing. It is recommended to ignore them using `self.save_hyperparameters(ignore=['logging_metrics'])`.\n",
      "  rank_zero_warn(\n",
      "c:\\Users\\lvdburchard\\AppData\\Local\\Programs\\Python\\Python310\\lib\\site-packages\\lightning\\pytorch\\loops\\utilities.py:70: PossibleUserWarning: `max_epochs` was not set. Setting it to 1000 epochs. To train without an epoch limit, set `max_epochs=-1`.\n",
      "  rank_zero_warn(\n",
      "c:\\Users\\lvdburchard\\AppData\\Local\\Programs\\Python\\Python310\\lib\\site-packages\\lightning\\pytorch\\trainer\\connectors\\data_connector.py:432: PossibleUserWarning: The dataloader, train_dataloader, does not have many workers which may be a bottleneck. Consider increasing the value of the `num_workers` argument` (try 16 which is the number of cpus on this machine) in the `DataLoader` init to improve performance.\n",
      "  rank_zero_warn(\n",
      "c:\\Users\\lvdburchard\\AppData\\Local\\Programs\\Python\\Python310\\lib\\site-packages\\lightning\\pytorch\\trainer\\connectors\\data_connector.py:432: PossibleUserWarning: The dataloader, val_dataloader, does not have many workers which may be a bottleneck. Consider increasing the value of the `num_workers` argument` (try 16 which is the number of cpus on this machine) in the `DataLoader` init to improve performance.\n",
      "  rank_zero_warn(\n"
     ]
    },
    {
     "name": "stdout",
     "output_type": "stream",
     "text": [
      "Number of parameters in network: 11.7k\n"
     ]
    },
    {
     "name": "stderr",
     "output_type": "stream",
     "text": [
      "Finding best initial lr: 100%|██████████| 100/100 [00:13<00:00,  7.51it/s]\n",
      "Learning rate set to 0.12882495516931336\n"
     ]
    },
    {
     "name": "stdout",
     "output_type": "stream",
     "text": [
      "suggested learning rate: 0.12882495516931336\n"
     ]
    },
    {
     "data": {
      "image/png": "[encoded data removed]",
      "text/plain": [
       "<Figure size 640x480 with 1 Axes>"
      ]
     },
     "metadata": {},
     "output_type": "display_data"
    },
    {
     "name": "stderr",
     "output_type": "stream",
     "text": [
      "C:\\Users\\lvdburchard\\AppData\\Local\\Temp\\ipykernel_8980\\2987656451.py:39: UserWarning: Matplotlib is currently using module://matplotlib_inline.backend_inline, which is a non-GUI backend, so cannot show the figure.\n",
      "  fig.show()\n"
     ]
    }
   ],
   "source": [
    "# Optional: Determine learning rate\n",
    "if False:\n",
    "    # configure network and trainer\n",
    "    pl.seed_everything(42)\n",
    "    trainer = pl.Trainer(\n",
    "        accelerator=\"cpu\",\n",
    "        # clipping gradients is a hyperparameter and important to prevent divergance\n",
    "        # of the gradient for recurrent neural networks\n",
    "        gradient_clip_val=0.1,\n",
    "    )\n",
    "\n",
    "\n",
    "    tft = TemporalFusionTransformer.from_dataset(\n",
    "        training,\n",
    "        # not meaningful for finding the learning rate but otherwise very important\n",
    "        learning_rate=0.03,\n",
    "        hidden_size=8,  # most important hyperparameter apart from learning rate\n",
    "        # number of attention heads. Set to up to 4 for large datasets\n",
    "        attention_head_size=4,\n",
    "        dropout=0.1,  # between 0.1 and 0.3 are good values\n",
    "        hidden_continuous_size=8,  # set to <= hidden_size\n",
    "        loss=QuantileLoss(),\n",
    "        optimizer=\"Ranger\"\n",
    "        # reduce learning rate if no improvement in validation loss after x epochs\n",
    "        # reduce_on_plateau_patience=1000,\n",
    "    )\n",
    "    print(f\"Number of parameters in network: {tft.size()/1e3:.1f}k\")\n",
    "\n",
    "    res = Tuner(trainer).lr_find(\n",
    "        tft,\n",
    "        train_dataloaders=train_dataloader,\n",
    "        val_dataloaders=val_dataloader,\n",
    "        max_lr=10.0,\n",
    "        min_lr=1e-6,\n",
    "    )\n",
    "\n",
    "    print(f\"suggested learning rate: {res.suggestion()}\")\n",
    "    fig = res.plot(show=True, suggest=True)\n",
    "    fig.show()\n"
   ]
  },
  {
   "cell_type": "code",
   "execution_count": 73,
   "metadata": {},
   "outputs": [
    {
     "name": "stdout",
     "output_type": "stream",
     "text": [
      "Number of parameters in network: 28.2k\n"
     ]
    },
    {
     "name": "stderr",
     "output_type": "stream",
     "text": [
      "c:\\Users\\lvdburchard\\AppData\\Local\\Programs\\Python\\Python310\\lib\\site-packages\\lightning\\pytorch\\utilities\\parsing.py:196: UserWarning: Attribute 'loss' is an instance of `nn.Module` and is already saved during checkpointing. It is recommended to ignore them using `self.save_hyperparameters(ignore=['loss'])`.\n",
      "  rank_zero_warn(\n",
      "c:\\Users\\lvdburchard\\AppData\\Local\\Programs\\Python\\Python310\\lib\\site-packages\\lightning\\pytorch\\utilities\\parsing.py:196: UserWarning: Attribute 'logging_metrics' is an instance of `nn.Module` and is already saved during checkpointing. It is recommended to ignore them using `self.save_hyperparameters(ignore=['logging_metrics'])`.\n",
      "  rank_zero_warn(\n"
     ]
    }
   ],
   "source": [
    "\n",
    "# configure network and trainer\n",
    "early_stop_callback = EarlyStopping(\n",
    "    monitor=\"val_loss\", min_delta=1e-4, patience=10, verbose=False, mode=\"min\")\n",
    "lr_logger = LearningRateMonitor()  # log the learning rate\n",
    "# logging results to a tensorboard\n",
    "logger = TensorBoardLogger(\"lightning_logs\")\n",
    "\n",
    "trainer = pl.Trainer(\n",
    "    max_epochs=50,\n",
    "    accelerator=\"cpu\",\n",
    "    enable_model_summary=True,\n",
    "    gradient_clip_val=0.1,\n",
    "    limit_train_batches=50,  # coment in for training, running valiation every 30 batches\n",
    "    # fast_dev_run=True,  # comment in to check that networkor dataset has no serious bugs\n",
    "    callbacks=[lr_logger, early_stop_callback],\n",
    "    logger=logger,\n",
    ")\n",
    "\n",
    "tft = TemporalFusionTransformer.from_dataset(\n",
    "    training,\n",
    "    learning_rate=0.08,\n",
    "    hidden_size=16,\n",
    "    attention_head_size=2,\n",
    "    dropout=0.1,\n",
    "    hidden_continuous_size=8,\n",
    "    loss=QuantileLoss(),\n",
    "    log_interval=10,  # uncomment for learning rate finder and otherwise, e.g. to 10 for logging every 10 batches\n",
    "    optimizer=\"Ranger\",\n",
    "    reduce_on_plateau_patience=4,\n",
    ")\n",
    "print(f\"Number of parameters in network: {tft.size()/1e3:.1f}k\")\n",
    "\n"
   ]
  },
  {
   "cell_type": "code",
   "execution_count": 74,
   "metadata": {},
   "outputs": [
    {
     "name": "stderr",
     "output_type": "stream",
     "text": [
      "\n",
      "   | Name                               | Type                            | Params\n",
      "----------------------------------------------------------------------------------------\n",
      "0  | loss                               | QuantileLoss                    | 0     \n",
      "1  | logging_metrics                    | ModuleList                      | 0     \n",
      "2  | input_embeddings                   | MultiEmbedding                  | 536   \n",
      "3  | prescalers                         | ModuleDict                      | 128   \n",
      "4  | static_variable_selection          | VariableSelectionNetwork        | 2.0 K \n",
      "5  | encoder_variable_selection         | VariableSelectionNetwork        | 5.9 K \n",
      "6  | decoder_variable_selection         | VariableSelectionNetwork        | 5.9 K \n",
      "7  | static_context_variable_selection  | GatedResidualNetwork            | 1.1 K \n",
      "8  | static_context_initial_hidden_lstm | GatedResidualNetwork            | 1.1 K \n",
      "9  | static_context_initial_cell_lstm   | GatedResidualNetwork            | 1.1 K \n",
      "10 | static_context_enrichment          | GatedResidualNetwork            | 1.1 K \n",
      "11 | lstm_encoder                       | LSTM                            | 2.2 K \n",
      "12 | lstm_decoder                       | LSTM                            | 2.2 K \n",
      "13 | post_lstm_gate_encoder             | GatedLinearUnit                 | 544   \n",
      "14 | post_lstm_add_norm_encoder         | AddNorm                         | 32    \n",
      "15 | static_enrichment                  | GatedResidualNetwork            | 1.4 K \n",
      "16 | multihead_attn                     | InterpretableMultiHeadAttention | 808   \n",
      "17 | post_attn_gate_norm                | GateAddNorm                     | 576   \n",
      "18 | pos_wise_ff                        | GatedResidualNetwork            | 1.1 K \n",
      "19 | pre_output_gate_norm               | GateAddNorm                     | 576   \n",
      "20 | output_layer                       | Linear                          | 119   \n",
      "----------------------------------------------------------------------------------------\n",
      "28.2 K    Trainable params\n",
      "0         Non-trainable params\n",
      "28.2 K    Total params\n",
      "0.113     Total estimated model params size (MB)\n"
     ]
    },
    {
     "name": "stdout",
     "output_type": "stream",
     "text": [
      "Sanity Checking DataLoader 0:   0%|          | 0/1 [00:00<?, ?it/s]"
     ]
    },
    {
     "name": "stderr",
     "output_type": "stream",
     "text": [
      "c:\\Users\\lvdburchard\\AppData\\Local\\Programs\\Python\\Python310\\lib\\site-packages\\lightning\\pytorch\\trainer\\connectors\\data_connector.py:432: PossibleUserWarning: The dataloader, val_dataloader, does not have many workers which may be a bottleneck. Consider increasing the value of the `num_workers` argument` (try 16 which is the number of cpus on this machine) in the `DataLoader` init to improve performance.\n",
      "  rank_zero_warn(\n"
     ]
    },
    {
     "name": "stdout",
     "output_type": "stream",
     "text": [
      "                                                                           "
     ]
    },
    {
     "name": "stderr",
     "output_type": "stream",
     "text": [
      "c:\\Users\\lvdburchard\\AppData\\Local\\Programs\\Python\\Python310\\lib\\site-packages\\lightning\\pytorch\\trainer\\connectors\\data_connector.py:432: PossibleUserWarning: The dataloader, train_dataloader, does not have many workers which may be a bottleneck. Consider increasing the value of the `num_workers` argument` (try 16 which is the number of cpus on this machine) in the `DataLoader` init to improve performance.\n",
      "  rank_zero_warn(\n"
     ]
    },
    {
     "name": "stdout",
     "output_type": "stream",
     "text": [
      "Epoch 42: 100%|██████████| 50/50 [00:09<00:00,  5.08it/s, v_num=7, train_loss_step=222.0, val_loss=327.0, train_loss_epoch=220.0]\n"
     ]
    }
   ],
   "source": [
    "# fit network\n",
    "trainer.fit(\n",
    "    tft,\n",
    "    train_dataloaders=train_dataloader,\n",
    "    val_dataloaders=val_dataloader,\n",
    ")\n"
   ]
  },
  {
   "cell_type": "code",
   "execution_count": 109,
   "metadata": {},
   "outputs": [
    {
     "name": "stderr",
     "output_type": "stream",
     "text": [
      "c:\\Users\\lvdburchard\\AppData\\Local\\Programs\\Python\\Python310\\lib\\site-packages\\lightning\\pytorch\\utilities\\parsing.py:196: UserWarning: Attribute 'loss' is an instance of `nn.Module` and is already saved during checkpointing. It is recommended to ignore them using `self.save_hyperparameters(ignore=['loss'])`.\n",
      "  rank_zero_warn(\n",
      "c:\\Users\\lvdburchard\\AppData\\Local\\Programs\\Python\\Python310\\lib\\site-packages\\lightning\\pytorch\\utilities\\parsing.py:196: UserWarning: Attribute 'logging_metrics' is an instance of `nn.Module` and is already saved during checkpointing. It is recommended to ignore them using `self.save_hyperparameters(ignore=['logging_metrics'])`.\n",
      "  rank_zero_warn(\n"
     ]
    },
    {
     "name": "stdout",
     "output_type": "stream",
     "text": [
      "   time_idx Branch Group  Horizon  Quantile   Prediction pred_idx  \\\n",
      "3      2731      1     1        1         3  2256.200928     2731   \n",
      "10     2731      1     1        2         3  2344.048828     2732   \n",
      "17     2731      1     1        3         3  2169.358643     2733   \n",
      "\n",
      "             TargetDate  \n",
      "3   2023-06-24 00:00:00  \n",
      "10  2023-06-25 00:00:00  \n",
      "17  2023-06-26 00:00:00  \n"
     ]
    },
    {
     "name": "stderr",
     "output_type": "stream",
     "text": [
      "c:\\Users\\lvdburchard\\AppData\\Local\\Programs\\Python\\Python310\\lib\\site-packages\\lightning\\pytorch\\trainer\\connectors\\data_connector.py:432: PossibleUserWarning: The dataloader, predict_dataloader, does not have many workers which may be a bottleneck. Consider increasing the value of the `num_workers` argument` (try 16 which is the number of cpus on this machine) in the `DataLoader` init to improve performance.\n",
      "  rank_zero_warn(\n",
      "C:\\Users\\lvdburchard\\AppData\\Local\\Temp\\ipykernel_8980\\2709410912.py:27: PerformanceWarning: Adding/subtracting object-dtype array to DatetimeArray not vectorized.\n",
      "  preds_df['TargetDate'] = preds_df['TargetDate'] + preds_df['pred_idx'].apply(pd.DateOffset)\n"
     ]
    }
   ],
   "source": [
    "\n",
    "# load the best model according to the validation loss\n",
    "# (given that we use early stopping, this is not necessarily the last epoch)\n",
    "best_model_path = trainer.checkpoint_callback.best_model_path\n",
    "best_tft = TemporalFusionTransformer.load_from_checkpoint(best_model_path)\n",
    "raw_predictions = best_tft.predict(val_dataloader, mode=\"raw\", return_x=True, return_index=True, return_y=True)\n",
    "\n",
    "def raw_preds_to_df(raw,idx_offset,quantiles = None):\n",
    "    \"\"\"\n",
    "    raw is output of model.predict with return_index=True\n",
    "    quantiles can be provided like [0.1,0.5,0.9] to get interpretable quantiles\n",
    "    in the output, time_idx is the first prediction time index (one step after knowledge cutoff)\n",
    "    pred_idx the index of the predicted date i.e. time_idx + h - 1\n",
    "    \"\"\"\n",
    "    index = raw.index\n",
    "    preds = raw.output.prediction\n",
    "    dec_len = raw.output.prediction.shape[1]\n",
    "    n_quantiles = preds.shape[-1]\n",
    "    preds_df = pd.DataFrame(index.values.repeat(dec_len * n_quantiles, axis=0),columns=index.columns)\n",
    "    preds_df = preds_df.assign(Horizon=np.tile(np.repeat(np.arange(1,1+dec_len),n_quantiles),len(preds_df)//(dec_len*n_quantiles)))\n",
    "    preds_df = preds_df.assign(Quantile=np.tile(np.arange(n_quantiles),len(preds_df)//n_quantiles))\n",
    "    preds_df = preds_df.assign(Prediction=preds.flatten().cpu().numpy())\n",
    "    if quantiles is not None:\n",
    "        preds_df['Quantile'] = preds_df['Quantile'].map({i:q for i,q in enumerate(quantiles)})\n",
    "\n",
    "    preds_df['pred_idx'] = preds_df['time_idx'] + preds_df['Horizon'] - 1\n",
    "    preds_df['TargetDate'] = pd.to_datetime(idx_offset)\n",
    "    preds_df['TargetDate'] = preds_df['TargetDate'] + preds_df['pred_idx'].apply(pd.DateOffset)\n",
    "    return preds_df\n",
    "\n",
    "pred = raw_preds_to_df(raw_predictions, first_date)\n",
    "# default quantiles are  [0.02, 0.1, 0.25, 0.5, 0.75, 0.9, 0.98],\n",
    "# therefore, Quantile=3 is median\n",
    "print(pred[(pred[\"Branch\"] == \"1\") & (pred[\"Group\"] == \"1\") & (pred[\"Quantile\"] == 3)])"
   ]
  }
 ],
 "metadata": {
  "kernelspec": {
   "display_name": "Python 3",
   "language": "python",
   "name": "python3"
  },
  "language_info": {
   "codemirror_mode": {
    "name": "ipython",
    "version": 3
   },
   "file_extension": ".py",
   "mimetype": "text/x-python",
   "name": "python",
   "nbconvert_exporter": "python",
   "pygments_lexer": "ipython3",
   "version": "3.10.0"
  },
  "orig_nbformat": 4
 },
 "nbformat": 4,
 "nbformat_minor": 2
}
