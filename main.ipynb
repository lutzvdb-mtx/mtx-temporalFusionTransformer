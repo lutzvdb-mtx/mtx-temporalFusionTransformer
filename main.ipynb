{
 "cells": [
  {
   "cell_type": "code",
   "execution_count": 108,
   "metadata": {},
   "outputs": [],
   "source": [
    "# Imports\n",
    "from lightning.pytorch.tuner import Tuner\n",
    "from pytorch_forecasting.models.temporal_fusion_transformer.tuning import optimize_hyperparameters\n",
    "from pytorch_forecasting.metrics import MAE, SMAPE, MAPE, PoissonLoss, QuantileLoss\n",
    "from pytorch_forecasting.data import GroupNormalizer, encoders\n",
    "from pytorch_forecasting import Baseline, TemporalFusionTransformer, TimeSeriesDataSet\n",
    "import torch\n",
    "import pandas as pd\n",
    "import numpy as np\n",
    "from lightning.pytorch.loggers import TensorBoardLogger\n",
    "from lightning.pytorch.callbacks import EarlyStopping, LearningRateMonitor\n",
    "import lightning.pytorch as pl\n",
    "import math\n",
    "import plotly.graph_objs as go\n"
   ]
  },
  {
   "cell_type": "code",
   "execution_count": 109,
   "metadata": {},
   "outputs": [],
   "source": [
    "# Read raw data\n",
    "data = pd.read_csv(\"Spieldatensatz.csv\")"
   ]
  },
  {
   "cell_type": "code",
   "execution_count": 110,
   "metadata": {},
   "outputs": [],
   "source": [
    "# Meta-parameters for modeling\n",
    "batch_size = 128\n",
    "max_prediction_length = 30\n",
    "max_encoder_length = 35\n",
    "max_epochs = 50\n",
    "hidden_size = 64\n",
    "attention_head_size = 2\n",
    "learning_rate = 0.03\n",
    "desired_quantiles = [0.1, 0.5, 0.9]\n",
    "nDay_test = 365 # number of days in test dataset\n",
    "nDay_validation = 200 # number of days in validation dataset"
   ]
  },
  {
   "cell_type": "code",
   "execution_count": 114,
   "metadata": {},
   "outputs": [],
   "source": [
    "#Generate dataset to use for training and forecasting\n",
    "data_simple = data\n",
    "holiday = ['NotCondensed_Allerheiligen', 'NotCondensed_Aschermittwoch', 'NotCondensed_BussUndBettag', 'NotCondensed_DritterAdvent', 'NotCondensed_ErsterAdvent', 'NotCondensed_ErsterMai', 'NotCondensed_ErsterWeihnachtstag', 'NotCondensed_Fastnacht', 'NotCondensed_Fastnachtssamstag', 'NotCondensed_Fastnachtssonntag', 'NotCondensed_Fronleichnam', 'NotCondensed_Gruendonnerstag', 'NotCondensed_Halloween', 'NotCondensed_Heiligabend', 'NotCondensed_HeiligeDreiKoenige', 'NotCondensed_Himmelfahrt', 'NotCondensed_Karfreitag', 'NotCondensed_Karsamstag', 'NotCondensed_MariaeHimmelfahrt', 'NotCondensed_Martinstag', 'NotCondensed_Muttertag', 'NotCondensed_Neujahr', 'NotCondensed_Nikolaus', 'NotCondensed_Ostermontag', 'NotCondensed_Ostersonntag', 'NotCondensed_Palmsonntag', 'NotCondensed_Pfingstmontag', 'NotCondensed_Pfingstsonntag', 'NotCondensed_Rosenmontag', 'NotCondensed_Silvester', 'NotCondensed_TagDerDeutschenEinheit', 'NotCondensed_Totensonntag', 'NotCondensed_Valentinstag', 'NotCondensed_VierterAdvent', 'NotCondensed_Volkstrauertag', 'NotCondensed_Weiberfastnacht', 'NotCondensed_ZweiterAdvent', 'NotCondensed_ZweiterWeihnachtstag', 'NotCondensed_ReformationstagAb2017', 'NotCondensed_Reformationstag', 'NotCondensed_Frauentag_ab_2023', 'NotCondensed_ReformationstagNur2017', 'NotCondensed_Frauentag', 'NotCondensed_BefreiungVonNazis']\n",
    "data_simple['none'] = (data_simple[holiday].sum(axis=1) == 0).astype(int)\n",
    "holiday += ['none']\n",
    "data_simple['holiday'] = data_simple[holiday].idxmax(1)\n",
    "\n",
    "data_simple = data[[\"Date\", \"Branch\", \"Group\", \"Sales\", \"Monat\", \"Wochentag\",\n",
    "                    \"TagImMonat\", \"Jahr\", \"MTXWTH_Temp_max\", \"MTXWTH_Rain\", \"ShiftLength\",\n",
    "                    \"holiday\"]]\n",
    "data_simple = data_simple[data_simple[\"Branch\"] < 5]\n",
    "data_simple = data_simple[data_simple[\"Sales\"].apply(math.isnan) == False]\n",
    "data_simple = data_simple[lambda x: x.Sales > 0]\n",
    "data_simple = data_simple[data_simple[\"ShiftLength\"].apply(math.isnan) == False]\n",
    "data_simple[\"Date\"] = pd.to_datetime(data_simple[\"Date\"], format=\"%Y-%m-%d\")\n",
    "first_date = min(data_simple[\"Date\"])\n",
    "last_date = max(data_simple[\"Date\"])\n",
    "data_simple[\"time_idx\"] = (data_simple[\"Date\"] - first_date).dt.days\n",
    "data_simple = data_simple.drop(\"Date\", axis = 1)\n",
    "\n",
    "# Categorical variables _have_ to be string\n",
    "data_simple[\"Branch\"] = data_simple[\"Branch\"].apply(str)\n",
    "data_simple[\"Wochentag\"] = data_simple[\"Wochentag\"].apply(str)\n",
    "data_simple[\"Group\"] = data_simple[\"Group\"].apply(str)\n",
    "data_simple[\"Monat\"] = data_simple[\"Monat\"].apply(str)\n",
    "\n",
    "#data_simple[\"TagImMonat\"] = data_simple[\"TagImMonat\"].apply(str)\n",
    "# holidays = [\"NotCondensed_ErsterMai\", \"NotCondensed_ErsterWeihnachtstag\",\n",
    "#             \"NotCondensed_Heiligabend\", \"NotCondensed_Himmelfahrt\",\n",
    "#             \"NotCondensed_Karfreitag\", \"NotCondensed_Karsamstag\",\n",
    "#             \"NotCondensed_Neujahr\", \"NotCondensed_Ostermontag\",\n",
    "#             \"NotCondensed_Ostersonntag\", \"NotCondensed_Pfingstmontag\",\n",
    "#             \"NotCondensed_Pfingstsonntag\", \"NotCondensed_Silvester\",\n",
    "#             \"NotCondensed_TagDerDeutschenEinheit\", \"NotCondensed_ZweiterWeihnachtstag\"]\n",
    "# for hol in holidays:\n",
    "#     data_simple[hol] = data_simple[hol].apply(str)\n",
    "\n",
    "# Constant variable letting the model now that the branch is Open\n",
    "# When the grid is expanded, this will be filled with \"F\" \n",
    "data_simple[\"OpenDay\"] = \"O\"\n",
    "\n",
    "categoricals = [\"Monat\", \"Wochentag\", \"OpenDay\", \"holiday\"]\n",
    "#categoricals.extend(holidays)"
   ]
  },
  {
   "cell_type": "code",
   "execution_count": 115,
   "metadata": {},
   "outputs": [
    {
     "name": "stderr",
     "output_type": "stream",
     "text": [
      "c:\\Users\\lvdburchard\\AppData\\Local\\Programs\\Python\\Python310\\lib\\site-packages\\pytorch_forecasting\\data\\encoders.py:318: UserWarning:\n",
      "\n",
      "Found 1 unknown classes which were set to NaN\n",
      "\n",
      "c:\\Users\\lvdburchard\\AppData\\Local\\Programs\\Python\\Python310\\lib\\site-packages\\pytorch_forecasting\\data\\encoders.py:318: UserWarning:\n",
      "\n",
      "Found 1 unknown classes which were set to NaN\n",
      "\n",
      "c:\\Users\\lvdburchard\\AppData\\Local\\Programs\\Python\\Python310\\lib\\site-packages\\pytorch_forecasting\\data\\encoders.py:318: UserWarning:\n",
      "\n",
      "Found 1 unknown classes which were set to NaN\n",
      "\n"
     ]
    }
   ],
   "source": [
    "# Build training and test dataset configuration\n",
    "validation_cutoff = data_simple[\"time_idx\"].max() - nDay_test\n",
    "training_cutoff = validation_cutoff - nDay_validation\n",
    "\n",
    "data_simple['weight'] = (data_simple['Sales'] > 0).astype(int) # if sales are 0 we dont want these observations influencing loss / gradient computations\n",
    "\n",
    "data_for_training = data_simple[lambda x: x.time_idx <= training_cutoff]\n",
    "data_for_validation = data_simple[lambda x: (x.time_idx > training_cutoff) & (x.time_idx <= validation_cutoff)]\n",
    "data_for_test = data_simple[lambda x: x.time_idx > validation_cutoff]\n",
    "# ascertain that training dataset length is a multiple of batch_size\n",
    "tooMuch = len(data_for_training) % batch_size\n",
    "data_for_training = data_for_training[tooMuch:len(data_for_training)]\n",
    "\n",
    "training = TimeSeriesDataSet(\n",
    "    data_for_training,\n",
    "    time_idx=\"time_idx\",\n",
    "    target=\"Sales\",\n",
    "    weight = 'weight',\n",
    "    group_ids=[\"Branch\", \"Group\"],\n",
    "    # keep encoder length long (as it is in the validation set)\n",
    "    min_encoder_length=max_encoder_length,\n",
    "    max_encoder_length=max_encoder_length,\n",
    "    min_prediction_length=1,\n",
    "    max_prediction_length=max_prediction_length,\n",
    "    static_categoricals=[\"Branch\", \"Group\"],\n",
    "    static_reals=[],\n",
    "    time_varying_known_categoricals=categoricals,\n",
    "    time_varying_known_reals=[\"time_idx\",\n",
    "                              \"MTXWTH_Temp_max\", \"MTXWTH_Rain\", \"ShiftLength\", \"TagImMonat\"],\n",
    "    time_varying_unknown_categoricals=[],\n",
    "    time_varying_unknown_reals=[],\n",
    "    target_normalizer=GroupNormalizer(\n",
    "        groups=[\"Branch\", \"Group\"], transformation=\"softplus\"\n",
    "    ),  # use softplus and normalize by group\n",
    "    add_relative_time_idx=True,\n",
    "    add_target_scales=True,\n",
    "    add_encoder_length=True,\n",
    "    allow_missing_timesteps=True,\n",
    "    constant_fill_strategy={\"Sales\": 0, \"OpenDay\": \"F\"},\n",
    "    categorical_encoders={\n",
    "        'OpenDay': encoders.NaNLabelEncoder(add_nan=True)\n",
    "    },\n",
    ")\n",
    "\n",
    "# create validation set (predict=True) which means to predict the last max_prediction_length points in time\n",
    "# for each series\n",
    "validation = TimeSeriesDataSet.from_dataset(\n",
    "    training, \n",
    "    data_for_validation, \n",
    "    predict=False, \n",
    "    stop_randomization=True)\n",
    "\n",
    "test = TimeSeriesDataSet.from_dataset(\n",
    "    training, \n",
    "    data_for_test, \n",
    "    predict=False, \n",
    "    stop_randomization=True)\n",
    "\n",
    "# create dataloaders for model\n",
    "train_dataloader = training.to_dataloader(\n",
    "    train=True, batch_size=batch_size, num_workers=0)\n",
    "val_dataloader = validation.to_dataloader(\n",
    "    train=False, batch_size=batch_size*10, num_workers=0)\n",
    "test_dataloader = test.to_dataloader(\n",
    "    train=False, batch_size=batch_size*10, num_workers=0)"
   ]
  },
  {
   "cell_type": "code",
   "execution_count": 102,
   "metadata": {},
   "outputs": [
    {
     "name": "stderr",
     "output_type": "stream",
     "text": [
      "Global seed set to 42\n",
      "GPU available: False, used: False\n",
      "TPU available: False, using: 0 TPU cores\n",
      "IPU available: False, using: 0 IPUs\n",
      "HPU available: False, using: 0 HPUs\n",
      "c:\\Users\\lvdburchard\\AppData\\Local\\Programs\\Python\\Python310\\lib\\site-packages\\lightning\\pytorch\\utilities\\parsing.py:196: UserWarning:\n",
      "\n",
      "Attribute 'loss' is an instance of `nn.Module` and is already saved during checkpointing. It is recommended to ignore them using `self.save_hyperparameters(ignore=['loss'])`.\n",
      "\n",
      "c:\\Users\\lvdburchard\\AppData\\Local\\Programs\\Python\\Python310\\lib\\site-packages\\lightning\\pytorch\\utilities\\parsing.py:196: UserWarning:\n",
      "\n",
      "Attribute 'logging_metrics' is an instance of `nn.Module` and is already saved during checkpointing. It is recommended to ignore them using `self.save_hyperparameters(ignore=['logging_metrics'])`.\n",
      "\n",
      "c:\\Users\\lvdburchard\\AppData\\Local\\Programs\\Python\\Python310\\lib\\site-packages\\lightning\\pytorch\\loops\\utilities.py:70: PossibleUserWarning:\n",
      "\n",
      "`max_epochs` was not set. Setting it to 1000 epochs. To train without an epoch limit, set `max_epochs=-1`.\n",
      "\n",
      "c:\\Users\\lvdburchard\\AppData\\Local\\Programs\\Python\\Python310\\lib\\site-packages\\lightning\\pytorch\\trainer\\connectors\\data_connector.py:432: PossibleUserWarning:\n",
      "\n",
      "The dataloader, train_dataloader, does not have many workers which may be a bottleneck. Consider increasing the value of the `num_workers` argument` (try 16 which is the number of cpus on this machine) in the `DataLoader` init to improve performance.\n",
      "\n",
      "c:\\Users\\lvdburchard\\AppData\\Local\\Programs\\Python\\Python310\\lib\\site-packages\\lightning\\pytorch\\trainer\\connectors\\data_connector.py:432: PossibleUserWarning:\n",
      "\n",
      "The dataloader, val_dataloader, does not have many workers which may be a bottleneck. Consider increasing the value of the `num_workers` argument` (try 16 which is the number of cpus on this machine) in the `DataLoader` init to improve performance.\n",
      "\n"
     ]
    },
    {
     "name": "stdout",
     "output_type": "stream",
     "text": [
      "Number of parameters in network: 29.2k\n"
     ]
    },
    {
     "name": "stderr",
     "output_type": "stream",
     "text": [
      "`Trainer.fit` stopped: `max_steps=100` reached.\n",
      "Finding best initial lr: 100%|██████████| 100/100 [00:23<00:00,  4.33it/s]\n",
      "Learning rate set to 5.888436553555889e-06\n",
      "Restoring states from the checkpoint path at c:\\Projekte\\mtx-temporalFusionTransformer\\.lr_find_5838d709-068e-48d3-a340-8cb409cea96b.ckpt\n",
      "Restored all states from the checkpoint at c:\\Projekte\\mtx-temporalFusionTransformer\\.lr_find_5838d709-068e-48d3-a340-8cb409cea96b.ckpt\n"
     ]
    },
    {
     "name": "stdout",
     "output_type": "stream",
     "text": [
      "suggested learning rate: 5.888436553555889e-06\n"
     ]
    },
    {
     "data": {
      "image/png": "[encoded data removed]",
      "text/plain": [
       "<Figure size 640x480 with 1 Axes>"
      ]
     },
     "metadata": {},
     "output_type": "display_data"
    },
    {
     "name": "stderr",
     "output_type": "stream",
     "text": [
      "C:\\Users\\lvdburchard\\AppData\\Local\\Temp\\ipykernel_3600\\1094098391.py:39: UserWarning:\n",
      "\n",
      "Matplotlib is currently using module://matplotlib_inline.backend_inline, which is a non-GUI backend, so cannot show the figure.\n",
      "\n"
     ]
    }
   ],
   "source": [
    "# Optional: Determine learning rate\n",
    "if False:\n",
    "    # configure network and trainer\n",
    "    pl.seed_everything(42)\n",
    "    trainer = pl.Trainer(\n",
    "        accelerator=\"cpu\",\n",
    "        # clipping gradients is a hyperparameter and important to prevent divergance\n",
    "        # of the gradient for recurrent neural networks\n",
    "        gradient_clip_val=0.1,\n",
    "    )\n",
    "\n",
    "\n",
    "    tft = TemporalFusionTransformer.from_dataset(\n",
    "        training,\n",
    "        # not meaningful for finding the learning rate but otherwise very important\n",
    "        learning_rate=learning_rate,\n",
    "        hidden_size=hidden_size,  # most important hyperparameter apart from learning rate\n",
    "        # number of attention heads. Set to up to 4 for large datasets\n",
    "        attention_head_size=attention_head_size,\n",
    "        dropout=0.1,  # between 0.1 and 0.3 are good values\n",
    "        hidden_continuous_size=8,  # set to <= hidden_size\n",
    "        loss=QuantileLoss(quantiles = desired_quantiles),\n",
    "        optimizer=\"Ranger\"\n",
    "        # reduce learning rate if no improvement in validation loss after x epochs\n",
    "        # reduce_on_plateau_patience=1000,\n",
    "    )\n",
    "    print(f\"Number of parameters in network: {tft.size()/1e3:.1f}k\")\n",
    "\n",
    "    res = Tuner(trainer).lr_find(\n",
    "        tft,\n",
    "        train_dataloaders=train_dataloader,\n",
    "        val_dataloaders=val_dataloader,\n",
    "        max_lr=10.0,\n",
    "        min_lr=1e-6,\n",
    "    )\n",
    "\n",
    "    print(f\"suggested learning rate: {res.suggestion()}\")\n",
    "    fig = res.plot(show=True, suggest=True)\n",
    "    fig.show()\n"
   ]
  },
  {
   "cell_type": "code",
   "execution_count": 116,
   "metadata": {},
   "outputs": [
    {
     "name": "stderr",
     "output_type": "stream",
     "text": [
      "GPU available: False, used: False\n",
      "TPU available: False, using: 0 TPU cores\n",
      "IPU available: False, using: 0 IPUs\n",
      "HPU available: False, using: 0 HPUs\n"
     ]
    },
    {
     "name": "stdout",
     "output_type": "stream",
     "text": [
      "Number of parameters in network: 240.0k\n"
     ]
    },
    {
     "name": "stderr",
     "output_type": "stream",
     "text": [
      "c:\\Users\\lvdburchard\\AppData\\Local\\Programs\\Python\\Python310\\lib\\site-packages\\lightning\\pytorch\\utilities\\parsing.py:196: UserWarning:\n",
      "\n",
      "Attribute 'loss' is an instance of `nn.Module` and is already saved during checkpointing. It is recommended to ignore them using `self.save_hyperparameters(ignore=['loss'])`.\n",
      "\n",
      "c:\\Users\\lvdburchard\\AppData\\Local\\Programs\\Python\\Python310\\lib\\site-packages\\lightning\\pytorch\\utilities\\parsing.py:196: UserWarning:\n",
      "\n",
      "Attribute 'logging_metrics' is an instance of `nn.Module` and is already saved during checkpointing. It is recommended to ignore them using `self.save_hyperparameters(ignore=['logging_metrics'])`.\n",
      "\n"
     ]
    }
   ],
   "source": [
    "\n",
    "# configure network and trainer\n",
    "early_stop_callback = EarlyStopping(\n",
    "    monitor=\"val_loss\", min_delta=1e-4, patience=10, verbose=False, mode=\"min\")\n",
    "lr_logger = LearningRateMonitor()  # log the learning rate\n",
    "# logging results to a tensorboard\n",
    "logger = TensorBoardLogger(\"lightning_logs\")\n",
    "\n",
    "trainer = pl.Trainer(\n",
    "    max_epochs=max_epochs,\n",
    "    accelerator=\"cpu\",\n",
    "    enable_model_summary=True,\n",
    "    gradient_clip_val=0.1,\n",
    "    #limit_train_batches=50,  # coment in for training, running valiation every 30 batches\n",
    "    # fast_dev_run=True,  # comment in to check that networkor dataset has no serious bugs\n",
    "    callbacks=[lr_logger, early_stop_callback],\n",
    "    logger=logger,\n",
    ")\n",
    "\n",
    "tft = TemporalFusionTransformer.from_dataset(\n",
    "    training,\n",
    "    learning_rate=learning_rate,\n",
    "    hidden_size=hidden_size,\n",
    "    attention_head_size=attention_head_size,\n",
    "    dropout=0.25,\n",
    "    hidden_continuous_size=8,\n",
    "    loss=QuantileLoss(quantiles = desired_quantiles),\n",
    "    log_interval=10,  # uncomment for learning rate finder and otherwise, e.g. to 10 for logging every 10 batches\n",
    "    optimizer=\"Ranger\",\n",
    "    reduce_on_plateau_patience=4,\n",
    ")\n",
    "print(f\"Number of parameters in network: {tft.size()/1e3:.1f}k\")\n",
    "\n"
   ]
  },
  {
   "cell_type": "code",
   "execution_count": 117,
   "metadata": {},
   "outputs": [
    {
     "name": "stderr",
     "output_type": "stream",
     "text": [
      "\n",
      "   | Name                               | Type                            | Params\n",
      "----------------------------------------------------------------------------------------\n",
      "0  | loss                               | QuantileLoss                    | 0     \n",
      "1  | logging_metrics                    | ModuleList                      | 0     \n",
      "2  | input_embeddings                   | MultiEmbedding                  | 676   \n",
      "3  | prescalers                         | ModuleDict                      | 144   \n",
      "4  | static_variable_selection          | VariableSelectionNetwork        | 5.6 K \n",
      "5  | encoder_variable_selection         | VariableSelectionNetwork        | 12.3 K\n",
      "6  | decoder_variable_selection         | VariableSelectionNetwork        | 12.3 K\n",
      "7  | static_context_variable_selection  | GatedResidualNetwork            | 16.8 K\n",
      "8  | static_context_initial_hidden_lstm | GatedResidualNetwork            | 16.8 K\n",
      "9  | static_context_initial_cell_lstm   | GatedResidualNetwork            | 16.8 K\n",
      "10 | static_context_enrichment          | GatedResidualNetwork            | 16.8 K\n",
      "11 | lstm_encoder                       | LSTM                            | 33.3 K\n",
      "12 | lstm_decoder                       | LSTM                            | 33.3 K\n",
      "13 | post_lstm_gate_encoder             | GatedLinearUnit                 | 8.3 K \n",
      "14 | post_lstm_add_norm_encoder         | AddNorm                         | 128   \n",
      "15 | static_enrichment                  | GatedResidualNetwork            | 20.9 K\n",
      "16 | multihead_attn                     | InterpretableMultiHeadAttention | 12.4 K\n",
      "17 | post_attn_gate_norm                | GateAddNorm                     | 8.4 K \n",
      "18 | pos_wise_ff                        | GatedResidualNetwork            | 16.8 K\n",
      "19 | pre_output_gate_norm               | GateAddNorm                     | 8.4 K \n",
      "20 | output_layer                       | Linear                          | 195   \n",
      "----------------------------------------------------------------------------------------\n",
      "240 K     Trainable params\n",
      "0         Non-trainable params\n",
      "240 K     Total params\n",
      "0.960     Total estimated model params size (MB)\n"
     ]
    },
    {
     "name": "stdout",
     "output_type": "stream",
     "text": [
      "Sanity Checking: 0it [00:00, ?it/s]"
     ]
    },
    {
     "name": "stderr",
     "output_type": "stream",
     "text": [
      "c:\\Users\\lvdburchard\\AppData\\Local\\Programs\\Python\\Python310\\lib\\site-packages\\lightning\\pytorch\\trainer\\connectors\\data_connector.py:432: PossibleUserWarning:\n",
      "\n",
      "The dataloader, val_dataloader, does not have many workers which may be a bottleneck. Consider increasing the value of the `num_workers` argument` (try 16 which is the number of cpus on this machine) in the `DataLoader` init to improve performance.\n",
      "\n"
     ]
    },
    {
     "name": "stdout",
     "output_type": "stream",
     "text": [
      "                                                                           "
     ]
    },
    {
     "name": "stderr",
     "output_type": "stream",
     "text": [
      "c:\\Users\\lvdburchard\\AppData\\Local\\Programs\\Python\\Python310\\lib\\site-packages\\lightning\\pytorch\\trainer\\connectors\\data_connector.py:432: PossibleUserWarning:\n",
      "\n",
      "The dataloader, train_dataloader, does not have many workers which may be a bottleneck. Consider increasing the value of the `num_workers` argument` (try 16 which is the number of cpus on this machine) in the `DataLoader` init to improve performance.\n",
      "\n"
     ]
    },
    {
     "name": "stdout",
     "output_type": "stream",
     "text": [
      "Epoch 6:  88%|████████▊ | 284/323 [17:05<02:20,  3.61s/it, v_num=26, train_loss_step=36.10, val_loss=80.20, train_loss_epoch=34.40]\n",
      "Epoch 9:  29%|██▉       | 94/325 [00:46<01:55,  2.00it/s, v_num=27, train_loss_step=22.70, val_loss=68.50, train_loss_epoch=21.30] "
     ]
    },
    {
     "name": "stderr",
     "output_type": "stream",
     "text": [
      "c:\\Users\\lvdburchard\\AppData\\Local\\Programs\\Python\\Python310\\lib\\site-packages\\lightning\\pytorch\\trainer\\call.py:52: UserWarning:\n",
      "\n",
      "Detected KeyboardInterrupt, attempting graceful shutdown...\n",
      "\n"
     ]
    }
   ],
   "source": [
    "# fit network\n",
    "trainer.fit(\n",
    "    tft,\n",
    "    train_dataloaders=train_dataloader,\n",
    "    val_dataloaders=val_dataloader,\n",
    ")\n"
   ]
  },
  {
   "cell_type": "code",
   "execution_count": 118,
   "metadata": {},
   "outputs": [
    {
     "name": "stderr",
     "output_type": "stream",
     "text": [
      "c:\\Users\\lvdburchard\\AppData\\Local\\Programs\\Python\\Python310\\lib\\site-packages\\lightning\\pytorch\\utilities\\parsing.py:196: UserWarning:\n",
      "\n",
      "Attribute 'loss' is an instance of `nn.Module` and is already saved during checkpointing. It is recommended to ignore them using `self.save_hyperparameters(ignore=['loss'])`.\n",
      "\n",
      "c:\\Users\\lvdburchard\\AppData\\Local\\Programs\\Python\\Python310\\lib\\site-packages\\lightning\\pytorch\\utilities\\parsing.py:196: UserWarning:\n",
      "\n",
      "Attribute 'logging_metrics' is an instance of `nn.Module` and is already saved during checkpointing. It is recommended to ignore them using `self.save_hyperparameters(ignore=['logging_metrics'])`.\n",
      "\n",
      "c:\\Users\\lvdburchard\\AppData\\Local\\Programs\\Python\\Python310\\lib\\site-packages\\lightning\\pytorch\\trainer\\connectors\\data_connector.py:432: PossibleUserWarning:\n",
      "\n",
      "The dataloader, predict_dataloader, does not have many workers which may be a bottleneck. Consider increasing the value of the `num_workers` argument` (try 16 which is the number of cpus on this machine) in the `DataLoader` init to improve performance.\n",
      "\n",
      "c:\\Users\\lvdburchard\\AppData\\Local\\Programs\\Python\\Python310\\lib\\site-packages\\pytorch_forecasting\\models\\base_model.py:105: UserWarning:\n",
      "\n",
      "Not all dimensions are equal for tensors shapes. Example tensor torch.Size([1280, 30, 2, 30]). Returning list instead of torch.Tensor.\n",
      "\n"
     ]
    }
   ],
   "source": [
    "# load the best model according to the validation loss\n",
    "# (given that we use early stopping, this is not necessarily the last epoch)\n",
    "best_model_path = trainer.checkpoint_callback.best_model_path\n",
    "best_model_path = 'lightning_logs/lightning_logs/version_27/checkpoints/epoch=8-step=2925.ckpt'\n",
    "best_tft = TemporalFusionTransformer.load_from_checkpoint(best_model_path)\n",
    "raw_predictions = best_tft.predict(test_dataloader, mode=\"raw\", return_index=True)"
   ]
  },
  {
   "cell_type": "code",
   "execution_count": 119,
   "metadata": {},
   "outputs": [
    {
     "name": "stderr",
     "output_type": "stream",
     "text": [
      "C:\\Users\\lvdburchard\\AppData\\Local\\Temp\\ipykernel_3600\\859612390.py:23: PerformanceWarning:\n",
      "\n",
      "Adding/subtracting object-dtype array to DatetimeArray not vectorized.\n",
      "\n"
     ]
    },
    {
     "name": "stdout",
     "output_type": "stream",
     "text": [
      "       time_idx Branch Group  Horizon  Quantile   Prediction pred_idx  \\\n",
      "116640     2404      1     5        1         0  1638.444336     2404   \n",
      "116641     2404      1     5        1         1  1753.244629     2404   \n",
      "116642     2404      1     5        1         2  1874.437988     2404   \n",
      "116730     2405      1     5        1         0  1494.058960     2405   \n",
      "116731     2405      1     5        1         1  1598.836426     2405   \n",
      "...         ...    ...   ...      ...       ...          ...      ...   \n",
      "145710     2733      1     5        1         0  1597.771729     2733   \n",
      "145711     2733      1     5        1         1  1702.755249     2733   \n",
      "145712     2733      1     5        1         2  1825.544922     2733   \n",
      "760142     2553      1     5        1         2  2040.352295     2553   \n",
      "760502     2586      1     5        1         2  1916.236450     2586   \n",
      "\n",
      "                       Date  \n",
      "116640  2022-08-01 00:00:00  \n",
      "116641  2022-08-01 00:00:00  \n",
      "116642  2022-08-01 00:00:00  \n",
      "116730  2022-08-02 00:00:00  \n",
      "116731  2022-08-02 00:00:00  \n",
      "...                     ...  \n",
      "145710  2023-06-26 00:00:00  \n",
      "145711  2023-06-26 00:00:00  \n",
      "145712  2023-06-26 00:00:00  \n",
      "760142  2022-12-28 00:00:00  \n",
      "760502  2023-01-30 00:00:00  \n",
      "\n",
      "[974 rows x 8 columns]\n"
     ]
    }
   ],
   "source": [
    "# convert predictions to pd.DataFrame\n",
    "\n",
    "def raw_preds_to_df(raw,idx_offset,quantiles = None):\n",
    "    \"\"\"\n",
    "    raw is output of model.predict with return_index=True\n",
    "    quantiles can be provided like [0.1,0.5,0.9] to get interpretable quantiles\n",
    "    in the output, time_idx is the first prediction time index (one step after knowledge cutoff)\n",
    "    pred_idx the index of the predicted date i.e. time_idx + h - 1\n",
    "    \"\"\"\n",
    "    index = raw.index\n",
    "    preds = raw.output.prediction\n",
    "    dec_len = raw.output.prediction.shape[1]\n",
    "    n_quantiles = preds.shape[-1]\n",
    "    preds_df = pd.DataFrame(index.values.repeat(dec_len * n_quantiles, axis=0),columns=index.columns)\n",
    "    preds_df = preds_df.assign(Horizon=np.tile(np.repeat(np.arange(1,1+dec_len),n_quantiles),len(preds_df)//(dec_len*n_quantiles)))\n",
    "    preds_df = preds_df.assign(Quantile=np.tile(np.arange(n_quantiles),len(preds_df)//n_quantiles))\n",
    "    preds_df = preds_df.assign(Prediction=preds.flatten().cpu().numpy())\n",
    "    if quantiles is not None:\n",
    "        preds_df['Quantile'] = preds_df['Quantile'].map({i:q for i,q in enumerate(quantiles)})\n",
    "\n",
    "    preds_df['pred_idx'] = preds_df['time_idx'] + preds_df['Horizon'] - 1\n",
    "    preds_df['Date'] = pd.to_datetime(idx_offset)\n",
    "    preds_df['Date'] = preds_df['Date'] + preds_df['pred_idx'].apply(pd.DateOffset)\n",
    "    return preds_df\n",
    "\n",
    "pred = raw_preds_to_df(raw_predictions, first_date)\n",
    "pred = pred.drop_duplicates() # for unknown reasons, predictions include many duplicated items\n",
    "# default quantiles are  [0.02, 0.1, 0.25, 0.5, 0.75, 0.9, 0.98],\n",
    "# therefore, Quantile=3 is median\n",
    "print(pred[lambda x: (x.Branch == \"1\") & (x.Group == \"5\") & (x.Horizon == 1)])"
   ]
  },
  {
   "cell_type": "code",
   "execution_count": 121,
   "metadata": {},
   "outputs": [
    {
     "data": {
      "text/html": [
       "<pre style=\"white-space:pre;overflow-x:auto;line-height:normal;font-family:Menlo,'DejaVu Sans Mono',consolas,'Courier New',monospace\"><span style=\"color: #800000; text-decoration-color: #800000\">╭─────────────────────────────── </span><span style=\"color: #800000; text-decoration-color: #800000; font-weight: bold\">Traceback </span><span style=\"color: #bf7f7f; text-decoration-color: #bf7f7f; font-weight: bold\">(most recent call last)</span><span style=\"color: #800000; text-decoration-color: #800000\"> ────────────────────────────────╮</span>\n",
       "<span style=\"color: #800000; text-decoration-color: #800000\">│</span> in <span style=\"color: #00ff00; text-decoration-color: #00ff00\">&lt;module&gt;</span>:<span style=\"color: #0000ff; text-decoration-color: #0000ff\">11</span>                                                                                   <span style=\"color: #800000; text-decoration-color: #800000\">│</span>\n",
       "<span style=\"color: #800000; text-decoration-color: #800000\">│</span>                                                                                                  <span style=\"color: #800000; text-decoration-color: #800000\">│</span>\n",
       "<span style=\"color: #800000; text-decoration-color: #800000\">│</span>   <span style=\"color: #7f7f7f; text-decoration-color: #7f7f7f\"> 8 </span>                                                                                            <span style=\"color: #800000; text-decoration-color: #800000\">│</span>\n",
       "<span style=\"color: #800000; text-decoration-color: #800000\">│</span>   <span style=\"color: #7f7f7f; text-decoration-color: #7f7f7f\"> 9 </span>medianQuantile = desired_quantiles.index(<span style=\"color: #0000ff; text-decoration-color: #0000ff\">0.5</span>)                                               <span style=\"color: #800000; text-decoration-color: #800000\">│</span>\n",
       "<span style=\"color: #800000; text-decoration-color: #800000\">│</span>   <span style=\"color: #7f7f7f; text-decoration-color: #7f7f7f\">10 </span>evaluateMe = test[(test[<span style=\"color: #808000; text-decoration-color: #808000\">\"Horizon\"</span>] == <span style=\"color: #0000ff; text-decoration-color: #0000ff\">1</span>) &amp; (test[<span style=\"color: #808000; text-decoration-color: #808000\">\"Quantile\"</span>] == medianQuantile)]            <span style=\"color: #800000; text-decoration-color: #800000\">│</span>\n",
       "<span style=\"color: #800000; text-decoration-color: #800000\">│</span> <span style=\"color: #800000; text-decoration-color: #800000\">❱ </span>11 evaluateMe = evaluteMe[<span style=\"color: #0000ff; text-decoration-color: #0000ff\">lambda</span> x: x.Sales &gt; <span style=\"color: #0000ff; text-decoration-color: #0000ff\">0</span>]                                               <span style=\"color: #800000; text-decoration-color: #800000\">│</span>\n",
       "<span style=\"color: #800000; text-decoration-color: #800000\">│</span>   <span style=\"color: #7f7f7f; text-decoration-color: #7f7f7f\">12 </span>WAPE = <span style=\"color: #0000ff; text-decoration-color: #0000ff\">100</span> * np.sum(np.abs(evaluateMe[<span style=\"color: #808000; text-decoration-color: #808000\">\"Prediction\"</span>] - evaluateMe[<span style=\"color: #808000; text-decoration-color: #808000\">\"Sales\"</span>])) / np.sum(eva    <span style=\"color: #800000; text-decoration-color: #800000\">│</span>\n",
       "<span style=\"color: #800000; text-decoration-color: #800000\">│</span>   <span style=\"color: #7f7f7f; text-decoration-color: #7f7f7f\">13 </span><span style=\"color: #00ffff; text-decoration-color: #00ffff\">print</span>(evaluateMe)                                                                           <span style=\"color: #800000; text-decoration-color: #800000\">│</span>\n",
       "<span style=\"color: #800000; text-decoration-color: #800000\">│</span>   <span style=\"color: #7f7f7f; text-decoration-color: #7f7f7f\">14 </span><span style=\"color: #00ffff; text-decoration-color: #00ffff\">print</span>(WAPE)                                                                                 <span style=\"color: #800000; text-decoration-color: #800000\">│</span>\n",
       "<span style=\"color: #800000; text-decoration-color: #800000\">╰──────────────────────────────────────────────────────────────────────────────────────────────────╯</span>\n",
       "<span style=\"color: #ff0000; text-decoration-color: #ff0000; font-weight: bold\">NameError: </span>name <span style=\"color: #008000; text-decoration-color: #008000\">'evaluteMe'</span> is not defined\n",
       "</pre>\n"
      ],
      "text/plain": [
       "\u001b[31m╭─\u001b[0m\u001b[31m──────────────────────────────\u001b[0m\u001b[31m \u001b[0m\u001b[1;31mTraceback \u001b[0m\u001b[1;2;31m(most recent call last)\u001b[0m\u001b[31m \u001b[0m\u001b[31m───────────────────────────────\u001b[0m\u001b[31m─╮\u001b[0m\n",
       "\u001b[31m│\u001b[0m in \u001b[92m<module>\u001b[0m:\u001b[94m11\u001b[0m                                                                                   \u001b[31m│\u001b[0m\n",
       "\u001b[31m│\u001b[0m                                                                                                  \u001b[31m│\u001b[0m\n",
       "\u001b[31m│\u001b[0m   \u001b[2m 8 \u001b[0m                                                                                            \u001b[31m│\u001b[0m\n",
       "\u001b[31m│\u001b[0m   \u001b[2m 9 \u001b[0mmedianQuantile = desired_quantiles.index(\u001b[94m0.5\u001b[0m)                                               \u001b[31m│\u001b[0m\n",
       "\u001b[31m│\u001b[0m   \u001b[2m10 \u001b[0mevaluateMe = test[(test[\u001b[33m\"\u001b[0m\u001b[33mHorizon\u001b[0m\u001b[33m\"\u001b[0m] == \u001b[94m1\u001b[0m) & (test[\u001b[33m\"\u001b[0m\u001b[33mQuantile\u001b[0m\u001b[33m\"\u001b[0m] == medianQuantile)]            \u001b[31m│\u001b[0m\n",
       "\u001b[31m│\u001b[0m \u001b[31m❱ \u001b[0m11 evaluateMe = evaluteMe[\u001b[94mlambda\u001b[0m x: x.Sales > \u001b[94m0\u001b[0m]                                               \u001b[31m│\u001b[0m\n",
       "\u001b[31m│\u001b[0m   \u001b[2m12 \u001b[0mWAPE = \u001b[94m100\u001b[0m * np.sum(np.abs(evaluateMe[\u001b[33m\"\u001b[0m\u001b[33mPrediction\u001b[0m\u001b[33m\"\u001b[0m] - evaluateMe[\u001b[33m\"\u001b[0m\u001b[33mSales\u001b[0m\u001b[33m\"\u001b[0m])) / np.sum(eva    \u001b[31m│\u001b[0m\n",
       "\u001b[31m│\u001b[0m   \u001b[2m13 \u001b[0m\u001b[96mprint\u001b[0m(evaluateMe)                                                                           \u001b[31m│\u001b[0m\n",
       "\u001b[31m│\u001b[0m   \u001b[2m14 \u001b[0m\u001b[96mprint\u001b[0m(WAPE)                                                                                 \u001b[31m│\u001b[0m\n",
       "\u001b[31m╰──────────────────────────────────────────────────────────────────────────────────────────────────╯\u001b[0m\n",
       "\u001b[1;91mNameError: \u001b[0mname \u001b[32m'evaluteMe'\u001b[0m is not defined\n"
      ]
     },
     "metadata": {},
     "output_type": "display_data"
    }
   ],
   "source": [
    "sales = data[[\"Date\", \"Branch\", \"Group\", \"Sales\"]].copy()\n",
    "sales[\"Branch\"] = sales[\"Branch\"].apply(str)\n",
    "sales[\"Group\"] = sales[\"Group\"].apply(str)\n",
    "sales[\"Date\"] = pd.to_datetime(sales[\"Date\"], format=\"%Y-%m-%d\")\n",
    "pred[\"Date\"] = pd.to_datetime(pred[\"Date\"], format=\"%Y-%m-%d\")\n",
    "\n",
    "test = pd.merge(pred[[\"Date\", \"Branch\", \"Group\", \"Horizon\", \"Quantile\", \"Prediction\"]], sales, how=\"inner\", on=[\"Date\", \"Branch\", \"Group\"])\n",
    "\n",
    "medianQuantile = desired_quantiles.index(0.5)\n",
    "evaluateMe = test[(test[\"Horizon\"] == 1) & (test[\"Quantile\"] == medianQuantile)]\n",
    "evaluateMe = evaluateMe[lambda x: x.Sales > 0]\n",
    "WAPE = 100 * np.sum(np.abs(evaluateMe[\"Prediction\"] - evaluateMe[\"Sales\"])) / np.sum(evaluateMe[\"Sales\"])\n",
    "print(evaluateMe)\n",
    "print(WAPE)\n"
   ]
  },
  {
   "cell_type": "code",
   "execution_count": 92,
   "metadata": {},
   "outputs": [
    {
     "data": {
      "application/vnd.plotly.v1+json": {
       "config": {
        "plotlyServerURL": "https://plot.ly"
       },
       "data": [
        {
         "name": "Sales",
         "type": "scatter",
         "x": [
          "2022-07-27T00:00:00",
          "2022-07-28T00:00:00",
          "2022-07-29T00:00:00",
          "2022-07-30T00:00:00",
          "2022-07-31T00:00:00",
          "2022-08-01T00:00:00",
          "2022-08-02T00:00:00",
          "2022-08-03T00:00:00",
          "2022-08-04T00:00:00",
          "2022-08-05T00:00:00",
          "2022-08-06T00:00:00",
          "2022-08-07T00:00:00",
          "2022-08-08T00:00:00",
          "2022-08-09T00:00:00",
          "2022-08-10T00:00:00",
          "2022-08-11T00:00:00",
          "2022-08-12T00:00:00",
          "2022-08-13T00:00:00",
          "2022-08-14T00:00:00",
          "2022-08-15T00:00:00",
          "2022-08-16T00:00:00",
          "2022-08-17T00:00:00",
          "2022-08-18T00:00:00",
          "2022-08-19T00:00:00",
          "2022-08-20T00:00:00",
          "2022-08-21T00:00:00",
          "2022-08-22T00:00:00",
          "2022-08-23T00:00:00",
          "2022-08-24T00:00:00",
          "2022-08-25T00:00:00",
          "2022-08-26T00:00:00",
          "2022-08-27T00:00:00",
          "2022-08-28T00:00:00",
          "2022-08-29T00:00:00",
          "2022-08-30T00:00:00",
          "2022-08-31T00:00:00",
          "2022-09-01T00:00:00",
          "2022-09-02T00:00:00",
          "2022-09-03T00:00:00",
          "2022-09-04T00:00:00",
          "2022-09-05T00:00:00",
          "2022-09-06T00:00:00",
          "2022-09-07T00:00:00",
          "2022-09-08T00:00:00",
          "2022-09-09T00:00:00",
          "2022-09-10T00:00:00",
          "2022-09-11T00:00:00",
          "2022-09-12T00:00:00",
          "2022-09-13T00:00:00",
          "2022-09-14T00:00:00",
          "2022-09-15T00:00:00",
          "2022-09-16T00:00:00",
          "2022-09-17T00:00:00",
          "2022-09-18T00:00:00",
          "2022-09-19T00:00:00",
          "2022-09-20T00:00:00",
          "2022-09-21T00:00:00",
          "2022-09-22T00:00:00",
          "2022-09-23T00:00:00",
          "2022-09-24T00:00:00",
          "2022-09-25T00:00:00",
          "2022-09-26T00:00:00",
          "2022-09-27T00:00:00",
          "2022-09-28T00:00:00",
          "2022-09-29T00:00:00",
          "2022-09-30T00:00:00",
          "2022-10-01T00:00:00",
          "2022-10-02T00:00:00",
          "2022-10-03T00:00:00",
          "2022-10-04T00:00:00",
          "2022-10-05T00:00:00",
          "2022-10-06T00:00:00",
          "2022-10-07T00:00:00",
          "2022-10-08T00:00:00",
          "2022-10-09T00:00:00",
          "2022-10-10T00:00:00",
          "2022-10-11T00:00:00",
          "2022-10-12T00:00:00",
          "2022-10-13T00:00:00",
          "2022-10-14T00:00:00",
          "2022-10-15T00:00:00",
          "2022-10-16T00:00:00",
          "2022-10-17T00:00:00",
          "2022-10-18T00:00:00",
          "2022-10-19T00:00:00",
          "2022-10-20T00:00:00",
          "2022-10-21T00:00:00",
          "2022-10-22T00:00:00",
          "2022-10-23T00:00:00",
          "2022-10-24T00:00:00",
          "2022-10-25T00:00:00",
          "2022-10-26T00:00:00",
          "2022-10-27T00:00:00",
          "2022-10-28T00:00:00",
          "2022-10-29T00:00:00",
          "2022-10-30T00:00:00",
          "2022-10-31T00:00:00",
          "2022-11-01T00:00:00",
          "2022-11-02T00:00:00",
          "2022-11-03T00:00:00",
          "2022-11-04T00:00:00",
          "2022-11-05T00:00:00",
          "2022-11-06T00:00:00",
          "2022-11-07T00:00:00",
          "2022-11-08T00:00:00",
          "2022-11-09T00:00:00",
          "2022-11-10T00:00:00",
          "2022-11-11T00:00:00",
          "2022-11-12T00:00:00",
          "2022-11-13T00:00:00",
          "2022-11-14T00:00:00",
          "2022-11-15T00:00:00",
          "2022-11-16T00:00:00",
          "2022-11-17T00:00:00",
          "2022-11-18T00:00:00",
          "2022-11-19T00:00:00",
          "2022-11-20T00:00:00",
          "2022-11-23T00:00:00",
          "2022-11-24T00:00:00",
          "2022-11-25T00:00:00",
          "2022-11-26T00:00:00",
          "2022-11-28T00:00:00",
          "2022-11-29T00:00:00",
          "2022-11-30T00:00:00",
          "2022-12-01T00:00:00",
          "2022-12-02T00:00:00",
          "2022-12-03T00:00:00",
          "2022-12-04T00:00:00",
          "2022-12-05T00:00:00",
          "2022-12-06T00:00:00",
          "2022-12-07T00:00:00",
          "2022-12-08T00:00:00",
          "2022-12-10T00:00:00",
          "2022-12-11T00:00:00",
          "2022-12-12T00:00:00",
          "2022-12-13T00:00:00",
          "2022-12-14T00:00:00",
          "2022-12-15T00:00:00",
          "2022-12-16T00:00:00",
          "2022-12-17T00:00:00",
          "2022-12-18T00:00:00",
          "2022-12-19T00:00:00",
          "2022-12-20T00:00:00",
          "2022-12-23T00:00:00",
          "2022-12-24T00:00:00",
          "2022-12-26T00:00:00",
          "2022-12-28T00:00:00",
          "2022-12-29T00:00:00",
          "2022-12-30T00:00:00",
          "2022-12-31T00:00:00",
          "2023-01-01T00:00:00",
          "2023-01-03T00:00:00",
          "2023-01-04T00:00:00",
          "2023-01-05T00:00:00",
          "2023-01-06T00:00:00",
          "2023-01-07T00:00:00",
          "2023-01-09T00:00:00",
          "2023-01-10T00:00:00",
          "2023-01-11T00:00:00",
          "2023-01-12T00:00:00",
          "2023-01-13T00:00:00",
          "2023-01-14T00:00:00",
          "2023-01-15T00:00:00",
          "2023-01-16T00:00:00",
          "2023-01-17T00:00:00",
          "2023-01-18T00:00:00",
          "2023-01-19T00:00:00",
          "2023-01-20T00:00:00",
          "2023-01-21T00:00:00",
          "2023-01-22T00:00:00",
          "2023-01-23T00:00:00",
          "2023-01-25T00:00:00",
          "2023-01-26T00:00:00",
          "2023-01-27T00:00:00",
          "2023-01-28T00:00:00",
          "2023-01-29T00:00:00",
          "2023-01-30T00:00:00",
          "2023-01-31T00:00:00",
          "2023-02-02T00:00:00",
          "2023-02-03T00:00:00",
          "2023-02-04T00:00:00",
          "2023-02-05T00:00:00",
          "2023-02-06T00:00:00",
          "2023-02-07T00:00:00",
          "2023-02-08T00:00:00",
          "2023-02-09T00:00:00",
          "2023-02-10T00:00:00",
          "2023-02-11T00:00:00",
          "2023-02-12T00:00:00",
          "2023-02-13T00:00:00",
          "2023-02-14T00:00:00",
          "2023-02-15T00:00:00",
          "2023-02-16T00:00:00",
          "2023-02-17T00:00:00",
          "2023-02-18T00:00:00",
          "2023-02-19T00:00:00",
          "2023-02-20T00:00:00",
          "2023-02-21T00:00:00",
          "2023-02-22T00:00:00",
          "2023-02-23T00:00:00",
          "2023-02-24T00:00:00",
          "2023-02-25T00:00:00",
          "2023-02-26T00:00:00",
          "2023-02-27T00:00:00",
          "2023-02-28T00:00:00",
          "2023-03-01T00:00:00",
          "2023-03-02T00:00:00",
          "2023-03-03T00:00:00",
          "2023-03-04T00:00:00",
          "2023-03-05T00:00:00",
          "2023-03-06T00:00:00",
          "2023-03-07T00:00:00",
          "2023-03-08T00:00:00",
          "2023-03-09T00:00:00",
          "2023-03-10T00:00:00",
          "2023-03-11T00:00:00",
          "2023-03-12T00:00:00",
          "2023-03-13T00:00:00",
          "2023-03-14T00:00:00",
          "2023-03-15T00:00:00",
          "2023-03-16T00:00:00",
          "2023-03-17T00:00:00",
          "2023-03-18T00:00:00",
          "2023-03-19T00:00:00",
          "2023-03-20T00:00:00",
          "2023-03-21T00:00:00",
          "2023-03-22T00:00:00",
          "2023-03-23T00:00:00",
          "2023-03-24T00:00:00",
          "2023-03-25T00:00:00",
          "2023-03-26T00:00:00",
          "2023-03-27T00:00:00",
          "2023-03-28T00:00:00",
          "2023-03-29T00:00:00",
          "2023-03-30T00:00:00",
          "2023-03-31T00:00:00",
          "2023-04-01T00:00:00",
          "2023-04-02T00:00:00",
          "2023-04-03T00:00:00",
          "2023-04-04T00:00:00",
          "2023-04-05T00:00:00",
          "2023-04-06T00:00:00",
          "2023-04-07T00:00:00",
          "2023-04-08T00:00:00",
          "2023-04-09T00:00:00",
          "2023-04-10T00:00:00",
          "2023-04-11T00:00:00",
          "2023-04-12T00:00:00",
          "2023-04-13T00:00:00",
          "2023-04-14T00:00:00",
          "2023-04-15T00:00:00",
          "2023-04-16T00:00:00",
          "2023-04-17T00:00:00",
          "2023-04-18T00:00:00",
          "2023-04-19T00:00:00",
          "2023-04-20T00:00:00",
          "2023-04-21T00:00:00",
          "2023-04-22T00:00:00",
          "2023-04-23T00:00:00",
          "2023-04-24T00:00:00",
          "2023-04-25T00:00:00",
          "2023-04-26T00:00:00",
          "2023-04-27T00:00:00",
          "2023-04-28T00:00:00",
          "2023-04-29T00:00:00",
          "2023-04-30T00:00:00",
          "2023-05-01T00:00:00",
          "2023-05-02T00:00:00",
          "2023-05-03T00:00:00",
          "2023-05-04T00:00:00",
          "2023-05-05T00:00:00",
          "2023-05-06T00:00:00",
          "2023-05-07T00:00:00",
          "2023-05-08T00:00:00",
          "2023-05-09T00:00:00",
          "2023-05-10T00:00:00",
          "2023-05-11T00:00:00",
          "2023-05-12T00:00:00",
          "2023-05-13T00:00:00",
          "2023-05-14T00:00:00",
          "2023-05-15T00:00:00",
          "2023-05-16T00:00:00",
          "2023-05-17T00:00:00",
          "2023-05-18T00:00:00",
          "2023-05-19T00:00:00",
          "2023-05-20T00:00:00",
          "2023-05-21T00:00:00",
          "2023-05-22T00:00:00",
          "2023-05-23T00:00:00",
          "2023-05-24T00:00:00",
          "2023-05-25T00:00:00",
          "2023-05-26T00:00:00",
          "2023-05-27T00:00:00",
          "2023-05-28T00:00:00",
          "2023-05-29T00:00:00",
          "2023-05-30T00:00:00",
          "2023-05-31T00:00:00",
          "2023-06-01T00:00:00",
          "2023-06-02T00:00:00",
          "2023-06-03T00:00:00",
          "2023-06-04T00:00:00",
          "2023-06-05T00:00:00",
          "2023-06-06T00:00:00",
          "2023-06-07T00:00:00",
          "2023-06-08T00:00:00",
          "2023-06-09T00:00:00",
          "2023-06-10T00:00:00",
          "2023-06-11T00:00:00",
          "2023-06-12T00:00:00",
          "2023-06-13T00:00:00",
          "2023-06-14T00:00:00",
          "2023-06-15T00:00:00",
          "2023-06-16T00:00:00",
          "2023-06-17T00:00:00",
          "2023-06-18T00:00:00",
          "2023-06-19T00:00:00",
          "2023-06-20T00:00:00",
          "2023-06-21T00:00:00",
          "2023-06-22T00:00:00",
          "2023-06-23T00:00:00",
          "2023-06-24T00:00:00",
          "2023-06-25T00:00:00",
          "2023-06-26T00:00:00"
         ],
         "y": [
          131.79,
          86.4,
          100.35,
          86.95,
          204.17,
          166.92,
          145.31,
          101.38,
          107,
          138.49,
          116.87,
          178.56,
          119.54,
          103.92,
          107.87,
          121.54,
          94.02,
          148.36,
          183.07,
          199.69,
          99,
          153.25,
          113.69,
          166.61,
          103.09,
          150.01,
          166.97,
          114.27,
          126.08,
          113.12,
          88.62,
          140.1,
          183.94,
          225.32,
          126.93,
          132.65,
          126.74,
          102.36,
          160,
          215.56,
          310.87,
          162.77,
          103.54,
          156.48,
          138.74,
          160.51,
          200.76,
          185.53,
          117.61,
          162.73,
          149.74,
          120.98,
          140.28,
          205.32,
          198.88,
          144.2,
          140.91,
          115.55,
          110.55,
          138.68,
          211.5,
          212.53,
          126.47,
          104.55,
          118.32,
          129.51,
          192.93,
          161.34,
          239.2,
          208.07,
          138.77,
          150.57,
          87.88,
          100.27,
          189.66,
          137.47,
          171.27,
          143.84,
          117.86,
          108.83,
          114.01,
          159.57,
          165.2,
          77.37,
          143.93,
          147.52,
          103.13,
          146.02,
          251.8,
          177.14,
          190.43,
          101.12,
          133.65,
          148.23,
          138.45,
          143.31,
          252.93,
          279.89,
          179.51,
          165.46,
          123.46,
          140.79,
          215.71,
          193.73,
          135.03,
          176.28,
          143.4,
          144.76,
          116.4,
          180.01,
          196.45,
          186.52,
          171.49,
          120.1,
          123.59,
          147.98,
          219.25,
          134.41,
          135.03,
          112.15,
          185.02,
          239.78,
          133.89,
          173.55,
          123.45,
          140.07,
          95.08,
          208.63,
          210.22,
          163.87,
          123.04,
          130.41,
          152.03,
          228.33,
          246.87,
          118.81,
          165.28,
          140.62,
          88.97,
          164.81,
          162.67,
          205.48,
          151.94,
          169.87,
          163.59,
          130.63,
          124.55,
          177.08,
          94.37,
          151.71,
          60.51,
          207.18,
          175.5,
          129.67,
          143.47,
          151.41,
          177.85,
          166.61,
          96.59,
          153.22,
          107.44,
          157.37,
          168.43,
          184.19,
          121.85,
          131.43,
          123.43,
          103.78,
          157.75,
          236.54,
          149.46,
          120.05,
          115.75,
          107.68,
          135.25,
          191.88,
          274.27,
          152.92,
          145.02,
          127.69,
          198.31,
          202.59,
          181.28,
          164.9,
          114.85,
          138.44,
          88.01,
          150.02,
          219.97,
          198.58,
          143.56,
          129.9,
          128.38,
          82.18,
          180.68,
          222.94,
          174.85,
          147.06,
          156.41,
          109.04,
          132.12,
          148.1,
          252.01,
          230.76,
          172.76,
          160.64,
          117.69,
          99.91,
          216.84,
          185.5,
          202.28,
          197.72,
          166.08,
          145.29,
          113.46,
          178.12,
          239.43,
          215.73,
          158.1,
          156.65,
          144.38,
          121.36,
          141.32,
          200.54,
          222.43,
          125.9,
          126.86,
          137.52,
          93.11,
          172.49,
          149.99,
          176.7,
          131.6,
          173.85,
          161.59,
          114.44,
          181.62,
          187.28,
          146.97,
          142.1,
          157.07,
          127.06,
          140.52,
          205.89,
          121.24,
          219.35,
          202.59,
          136.18,
          124,
          150.86,
          142.99,
          178.21,
          156.45,
          132.76,
          150.07,
          149.08,
          66.08,
          180.61,
          218.82,
          239,
          148.97,
          138.09,
          170.13,
          131.99,
          155.29,
          173.44,
          226.37,
          251.32,
          128.9,
          137.83,
          81.98,
          174.66,
          153.88,
          193.59,
          159.21,
          159.75,
          141.31,
          143.18,
          127.19,
          229.76,
          204.9,
          110.61,
          150.74,
          145.64,
          132.74,
          188.63,
          193.98,
          240.09,
          230.78,
          98.07,
          130.45,
          133.05,
          140,
          139.56,
          191.64,
          187.98,
          134.67,
          130.3,
          128.04,
          177.83,
          177.21,
          181.74,
          137.28,
          137.52,
          132.83,
          91.36,
          133.63,
          199.16,
          220.03,
          100.35,
          128.2,
          149.99,
          111.01,
          146.25,
          174.46,
          224.34,
          114.11,
          136.54,
          126.27,
          84.29,
          120.52,
          191.54,
          148.63
         ]
        },
        {
         "name": "Prediction",
         "type": "scatter",
         "x": [
          "2022-07-27T00:00:00",
          "2022-07-28T00:00:00",
          "2022-07-29T00:00:00",
          "2022-07-30T00:00:00",
          "2022-07-31T00:00:00",
          "2022-08-01T00:00:00",
          "2022-08-02T00:00:00",
          "2022-08-03T00:00:00",
          "2022-08-04T00:00:00",
          "2022-08-05T00:00:00",
          "2022-08-06T00:00:00",
          "2022-08-07T00:00:00",
          "2022-08-08T00:00:00",
          "2022-08-09T00:00:00",
          "2022-08-10T00:00:00",
          "2022-08-11T00:00:00",
          "2022-08-12T00:00:00",
          "2022-08-13T00:00:00",
          "2022-08-14T00:00:00",
          "2022-08-15T00:00:00",
          "2022-08-16T00:00:00",
          "2022-08-17T00:00:00",
          "2022-08-18T00:00:00",
          "2022-08-19T00:00:00",
          "2022-08-20T00:00:00",
          "2022-08-21T00:00:00",
          "2022-08-22T00:00:00",
          "2022-08-23T00:00:00",
          "2022-08-24T00:00:00",
          "2022-08-25T00:00:00",
          "2022-08-26T00:00:00",
          "2022-08-27T00:00:00",
          "2022-08-28T00:00:00",
          "2022-08-29T00:00:00",
          "2022-08-30T00:00:00",
          "2022-08-31T00:00:00",
          "2022-09-01T00:00:00",
          "2022-09-02T00:00:00",
          "2022-09-03T00:00:00",
          "2022-09-04T00:00:00",
          "2022-09-05T00:00:00",
          "2022-09-06T00:00:00",
          "2022-09-07T00:00:00",
          "2022-09-08T00:00:00",
          "2022-09-09T00:00:00",
          "2022-09-10T00:00:00",
          "2022-09-11T00:00:00",
          "2022-09-12T00:00:00",
          "2022-09-13T00:00:00",
          "2022-09-14T00:00:00",
          "2022-09-15T00:00:00",
          "2022-09-16T00:00:00",
          "2022-09-17T00:00:00",
          "2022-09-18T00:00:00",
          "2022-09-19T00:00:00",
          "2022-09-20T00:00:00",
          "2022-09-21T00:00:00",
          "2022-09-22T00:00:00",
          "2022-09-23T00:00:00",
          "2022-09-24T00:00:00",
          "2022-09-25T00:00:00",
          "2022-09-26T00:00:00",
          "2022-09-27T00:00:00",
          "2022-09-28T00:00:00",
          "2022-09-29T00:00:00",
          "2022-09-30T00:00:00",
          "2022-10-01T00:00:00",
          "2022-10-02T00:00:00",
          "2022-10-03T00:00:00",
          "2022-10-04T00:00:00",
          "2022-10-05T00:00:00",
          "2022-10-06T00:00:00",
          "2022-10-07T00:00:00",
          "2022-10-08T00:00:00",
          "2022-10-09T00:00:00",
          "2022-10-10T00:00:00",
          "2022-10-11T00:00:00",
          "2022-10-12T00:00:00",
          "2022-10-13T00:00:00",
          "2022-10-14T00:00:00",
          "2022-10-15T00:00:00",
          "2022-10-16T00:00:00",
          "2022-10-17T00:00:00",
          "2022-10-18T00:00:00",
          "2022-10-19T00:00:00",
          "2022-10-20T00:00:00",
          "2022-10-21T00:00:00",
          "2022-10-22T00:00:00",
          "2022-10-23T00:00:00",
          "2022-10-24T00:00:00",
          "2022-10-25T00:00:00",
          "2022-10-26T00:00:00",
          "2022-10-27T00:00:00",
          "2022-10-28T00:00:00",
          "2022-10-29T00:00:00",
          "2022-10-30T00:00:00",
          "2022-10-31T00:00:00",
          "2022-11-01T00:00:00",
          "2022-11-02T00:00:00",
          "2022-11-03T00:00:00",
          "2022-11-04T00:00:00",
          "2022-11-05T00:00:00",
          "2022-11-06T00:00:00",
          "2022-11-07T00:00:00",
          "2022-11-08T00:00:00",
          "2022-11-09T00:00:00",
          "2022-11-10T00:00:00",
          "2022-11-11T00:00:00",
          "2022-11-12T00:00:00",
          "2022-11-13T00:00:00",
          "2022-11-14T00:00:00",
          "2022-11-15T00:00:00",
          "2022-11-16T00:00:00",
          "2022-11-17T00:00:00",
          "2022-11-18T00:00:00",
          "2022-11-19T00:00:00",
          "2022-11-20T00:00:00",
          "2022-11-23T00:00:00",
          "2022-11-24T00:00:00",
          "2022-11-25T00:00:00",
          "2022-11-26T00:00:00",
          "2022-11-28T00:00:00",
          "2022-11-29T00:00:00",
          "2022-11-30T00:00:00",
          "2022-12-01T00:00:00",
          "2022-12-02T00:00:00",
          "2022-12-03T00:00:00",
          "2022-12-04T00:00:00",
          "2022-12-05T00:00:00",
          "2022-12-06T00:00:00",
          "2022-12-07T00:00:00",
          "2022-12-08T00:00:00",
          "2022-12-10T00:00:00",
          "2022-12-11T00:00:00",
          "2022-12-12T00:00:00",
          "2022-12-13T00:00:00",
          "2022-12-14T00:00:00",
          "2022-12-15T00:00:00",
          "2022-12-16T00:00:00",
          "2022-12-17T00:00:00",
          "2022-12-18T00:00:00",
          "2022-12-19T00:00:00",
          "2022-12-20T00:00:00",
          "2022-12-23T00:00:00",
          "2022-12-24T00:00:00",
          "2022-12-26T00:00:00",
          "2022-12-28T00:00:00",
          "2022-12-29T00:00:00",
          "2022-12-30T00:00:00",
          "2022-12-31T00:00:00",
          "2023-01-01T00:00:00",
          "2023-01-03T00:00:00",
          "2023-01-04T00:00:00",
          "2023-01-05T00:00:00",
          "2023-01-06T00:00:00",
          "2023-01-07T00:00:00",
          "2023-01-09T00:00:00",
          "2023-01-10T00:00:00",
          "2023-01-11T00:00:00",
          "2023-01-12T00:00:00",
          "2023-01-13T00:00:00",
          "2023-01-14T00:00:00",
          "2023-01-15T00:00:00",
          "2023-01-16T00:00:00",
          "2023-01-17T00:00:00",
          "2023-01-18T00:00:00",
          "2023-01-19T00:00:00",
          "2023-01-20T00:00:00",
          "2023-01-21T00:00:00",
          "2023-01-22T00:00:00",
          "2023-01-23T00:00:00",
          "2023-01-25T00:00:00",
          "2023-01-26T00:00:00",
          "2023-01-27T00:00:00",
          "2023-01-28T00:00:00",
          "2023-01-29T00:00:00",
          "2023-01-30T00:00:00",
          "2023-01-31T00:00:00",
          "2023-02-02T00:00:00",
          "2023-02-03T00:00:00",
          "2023-02-04T00:00:00",
          "2023-02-05T00:00:00",
          "2023-02-06T00:00:00",
          "2023-02-07T00:00:00",
          "2023-02-08T00:00:00",
          "2023-02-09T00:00:00",
          "2023-02-10T00:00:00",
          "2023-02-11T00:00:00",
          "2023-02-12T00:00:00",
          "2023-02-13T00:00:00",
          "2023-02-14T00:00:00",
          "2023-02-15T00:00:00",
          "2023-02-16T00:00:00",
          "2023-02-17T00:00:00",
          "2023-02-18T00:00:00",
          "2023-02-19T00:00:00",
          "2023-02-20T00:00:00",
          "2023-02-21T00:00:00",
          "2023-02-22T00:00:00",
          "2023-02-23T00:00:00",
          "2023-02-24T00:00:00",
          "2023-02-25T00:00:00",
          "2023-02-26T00:00:00",
          "2023-02-27T00:00:00",
          "2023-02-28T00:00:00",
          "2023-03-01T00:00:00",
          "2023-03-02T00:00:00",
          "2023-03-03T00:00:00",
          "2023-03-04T00:00:00",
          "2023-03-05T00:00:00",
          "2023-03-06T00:00:00",
          "2023-03-07T00:00:00",
          "2023-03-08T00:00:00",
          "2023-03-09T00:00:00",
          "2023-03-10T00:00:00",
          "2023-03-11T00:00:00",
          "2023-03-12T00:00:00",
          "2023-03-13T00:00:00",
          "2023-03-14T00:00:00",
          "2023-03-15T00:00:00",
          "2023-03-16T00:00:00",
          "2023-03-17T00:00:00",
          "2023-03-18T00:00:00",
          "2023-03-19T00:00:00",
          "2023-03-20T00:00:00",
          "2023-03-21T00:00:00",
          "2023-03-22T00:00:00",
          "2023-03-23T00:00:00",
          "2023-03-24T00:00:00",
          "2023-03-25T00:00:00",
          "2023-03-26T00:00:00",
          "2023-03-27T00:00:00",
          "2023-03-28T00:00:00",
          "2023-03-29T00:00:00",
          "2023-03-30T00:00:00",
          "2023-03-31T00:00:00",
          "2023-04-01T00:00:00",
          "2023-04-02T00:00:00",
          "2023-04-03T00:00:00",
          "2023-04-04T00:00:00",
          "2023-04-05T00:00:00",
          "2023-04-06T00:00:00",
          "2023-04-07T00:00:00",
          "2023-04-08T00:00:00",
          "2023-04-09T00:00:00",
          "2023-04-10T00:00:00",
          "2023-04-11T00:00:00",
          "2023-04-12T00:00:00",
          "2023-04-13T00:00:00",
          "2023-04-14T00:00:00",
          "2023-04-15T00:00:00",
          "2023-04-16T00:00:00",
          "2023-04-17T00:00:00",
          "2023-04-18T00:00:00",
          "2023-04-19T00:00:00",
          "2023-04-20T00:00:00",
          "2023-04-21T00:00:00",
          "2023-04-22T00:00:00",
          "2023-04-23T00:00:00",
          "2023-04-24T00:00:00",
          "2023-04-25T00:00:00",
          "2023-04-26T00:00:00",
          "2023-04-27T00:00:00",
          "2023-04-28T00:00:00",
          "2023-04-29T00:00:00",
          "2023-04-30T00:00:00",
          "2023-05-01T00:00:00",
          "2023-05-02T00:00:00",
          "2023-05-03T00:00:00",
          "2023-05-04T00:00:00",
          "2023-05-05T00:00:00",
          "2023-05-06T00:00:00",
          "2023-05-07T00:00:00",
          "2023-05-08T00:00:00",
          "2023-05-09T00:00:00",
          "2023-05-10T00:00:00",
          "2023-05-11T00:00:00",
          "2023-05-12T00:00:00",
          "2023-05-13T00:00:00",
          "2023-05-14T00:00:00",
          "2023-05-15T00:00:00",
          "2023-05-16T00:00:00",
          "2023-05-17T00:00:00",
          "2023-05-18T00:00:00",
          "2023-05-19T00:00:00",
          "2023-05-20T00:00:00",
          "2023-05-21T00:00:00",
          "2023-05-22T00:00:00",
          "2023-05-23T00:00:00",
          "2023-05-24T00:00:00",
          "2023-05-25T00:00:00",
          "2023-05-26T00:00:00",
          "2023-05-27T00:00:00",
          "2023-05-28T00:00:00",
          "2023-05-29T00:00:00",
          "2023-05-30T00:00:00",
          "2023-05-31T00:00:00",
          "2023-06-01T00:00:00",
          "2023-06-02T00:00:00",
          "2023-06-03T00:00:00",
          "2023-06-04T00:00:00",
          "2023-06-05T00:00:00",
          "2023-06-06T00:00:00",
          "2023-06-07T00:00:00",
          "2023-06-08T00:00:00",
          "2023-06-09T00:00:00",
          "2023-06-10T00:00:00",
          "2023-06-11T00:00:00",
          "2023-06-12T00:00:00",
          "2023-06-13T00:00:00",
          "2023-06-14T00:00:00",
          "2023-06-15T00:00:00",
          "2023-06-16T00:00:00",
          "2023-06-17T00:00:00",
          "2023-06-18T00:00:00",
          "2023-06-19T00:00:00",
          "2023-06-20T00:00:00",
          "2023-06-21T00:00:00",
          "2023-06-22T00:00:00",
          "2023-06-23T00:00:00",
          "2023-06-24T00:00:00",
          "2023-06-25T00:00:00",
          "2023-06-26T00:00:00"
         ],
         "y": [
          148.113525390625,
          135.12501525878906,
          129.01895141601562,
          142.4758758544922,
          185.804931640625,
          168.48683166503906,
          139.56056213378906,
          134.94898986816406,
          127.09951782226562,
          133.9911346435547,
          147.13719177246094,
          186.9776611328125,
          168.42813110351562,
          140.76393127441406,
          144.57241821289062,
          131.6571807861328,
          125.62342071533203,
          139.05532836914062,
          184.2050018310547,
          153.8637237548828,
          140.46395874023438,
          137.41107177734375,
          137.08157348632812,
          132.93946838378906,
          146.3216094970703,
          188.56375122070312,
          167.71713256835938,
          140.66455078125,
          146.4632568359375,
          141.12989807128906,
          128.3672637939453,
          149.2715606689453,
          188.44912719726562,
          177.90078735351562,
          149.86099243164062,
          155.49322509765625,
          139.91505432128906,
          131.35133361816406,
          149.30560302734375,
          187.40408325195312,
          164.62139892578125,
          145.9999542236328,
          148.10353088378906,
          143.009521484375,
          130.56605529785156,
          153.84548950195312,
          196.13612365722656,
          174.98980712890625,
          148.62733459472656,
          155.07916259765625,
          143.5944366455078,
          146.44619750976562,
          166.52667236328125,
          212.44003295898438,
          188.14749145507812,
          155.57778930664062,
          156.88929748535156,
          146.62466430664062,
          143.36997985839844,
          171.211669921875,
          215.9605255126953,
          192.26710510253906,
          164.7861785888672,
          159.40635681152344,
          165.11410522460938,
          151.9867706298828,
          177.37088012695312,
          228.7403564453125,
          195.52745056152344,
          184.2678680419922,
          157.44918823242188,
          151.27740478515625,
          146.63426208496094,
          171.0908203125,
          212.24514770507812,
          184.3636932373047,
          152.60398864746094,
          162.50796508789062,
          152.216064453125,
          150.81845092773438,
          168.48080444335938,
          217.50555419921875,
          187.32730102539062,
          155.21975708007812,
          172.09909057617188,
          161.81256103515625,
          150.93531799316406,
          171.25112915039062,
          220.75360107421875,
          191.55657958984375,
          157.59620666503906,
          166.0277099609375,
          150.19647216796875,
          139.56173706054688,
          169.00772094726562,
          210.5642852783203,
          206.8019256591797,
          156.17266845703125,
          170.2808074951172,
          153.86282348632812,
          155.1568603515625,
          175.98008728027344,
          218.4473114013672,
          193.96322631835938,
          156.5790252685547,
          163.43527221679688,
          156.2422637939453,
          149.1947021484375,
          173.40280151367188,
          216.02685546875,
          193.9370574951172,
          155.78280639648438,
          171.7652130126953,
          154.50282287597656,
          157.8385009765625,
          179.71620178222656,
          217.94012451171875,
          162.82894897460938,
          149.82298278808594,
          148.77325439453125,
          167.40359497070312,
          194.1193389892578,
          161.3375701904297,
          165.52789306640625,
          155.9514617919922,
          158.385498046875,
          177.20408630371094,
          210.38327026367188,
          199.46926879882812,
          163.2476806640625,
          167.92428588867188,
          156.6380157470703,
          175.40870666503906,
          204.9698486328125,
          197.3740997314453,
          159.87591552734375,
          163.21238708496094,
          151.0297393798828,
          158.30670166015625,
          172.565673828125,
          206.3869171142578,
          202.41329956054688,
          166.32000732421875,
          155.47291564941406,
          126.24527740478516,
          171.45681762695312,
          172.20018005371094,
          161.00331115722656,
          161.6963653564453,
          183.94546508789062,
          195.57496643066406,
          165.68626403808594,
          177.26913452148438,
          153.95790100097656,
          160.75082397460938,
          172.4545440673828,
          201.80126953125,
          168.8004150390625,
          171.19654846191406,
          173.421875,
          161.50123596191406,
          196.86431884765625,
          241.90032958984375,
          210.53280639648438,
          171.0071563720703,
          172.59754943847656,
          169.38047790527344,
          167.32208251953125,
          182.99847412109375,
          229.3572998046875,
          205.47994995117188,
          174.15859985351562,
          164.4670867919922,
          161.49656677246094,
          175.07470703125,
          222.61520385742188,
          218.3163604736328,
          168.0446319580078,
          160.05807495117188,
          163.70054626464844,
          185.05133056640625,
          232.82577514648438,
          211.73355102539062,
          172.9685821533203,
          174.71295166015625,
          159.86241149902344,
          157.0021514892578,
          175.83924865722656,
          233.14573669433594,
          203.68894958496094,
          166.58975219726562,
          167.9487762451172,
          167.35113525390625,
          154.80712890625,
          196.36410522460938,
          243.00401306152344,
          213.25994873046875,
          169.37423706054688,
          175.72352600097656,
          166.5200653076172,
          164.21888732910156,
          190.5122833251953,
          245.27655029296875,
          211.0079345703125,
          171.6107635498047,
          175.04820251464844,
          163.81951904296875,
          165.0445098876953,
          186.8759765625,
          240.1986541748047,
          209.20816040039062,
          171.87908935546875,
          175.87899780273438,
          161.63133239746094,
          160.08779907226562,
          179.8232421875,
          242.93516540527344,
          200.34426879882812,
          171.7126007080078,
          171.387939453125,
          170.66123962402344,
          150.3875274658203,
          182.99270629882812,
          235.39651489257812,
          210.013427734375,
          169.97589111328125,
          177.1217041015625,
          174.12767028808594,
          161.3034210205078,
          206.05072021484375,
          250.92532348632812,
          213.1551971435547,
          171.4375457763672,
          185.24139404296875,
          175.19520568847656,
          167.99571228027344,
          191.4942169189453,
          234.1605224609375,
          203.0557861328125,
          167.69020080566406,
          174.12559509277344,
          165.94007873535156,
          237.19393920898438,
          218.2886962890625,
          221.8394317626953,
          222.54620361328125,
          168.40072631835938,
          191.77040100097656,
          157.45286560058594,
          162.8934326171875,
          177.84463500976562,
          230.29278564453125,
          196.27731323242188,
          164.14773559570312,
          184.38809204101562,
          175.7306365966797,
          150.92967224121094,
          171.7299041748047,
          226.30001831054688,
          199.12649536132812,
          167.3820343017578,
          181.67320251464844,
          162.71212768554688,
          156.35218811035156,
          182.87496948242188,
          226.9326629638672,
          217.55368041992188,
          196.59213256835938,
          173.3855438232422,
          160.4600830078125,
          157.3605499267578,
          186.27857971191406,
          216.34799194335938,
          190.1611328125,
          155.8719024658203,
          168.65087890625,
          150.0760955810547,
          142.2279815673828,
          156.5373992919922,
          206.51980590820312,
          178.05130004882812,
          162.35528564453125,
          162.86236572265625,
          219.6821746826172,
          146.5941162109375,
          163.00503540039062,
          199.07754516601562,
          173.84432983398438,
          161.00816345214844,
          162.02938842773438,
          151.4894256591797,
          143.69247436523438,
          154.95993041992188,
          198.0812530517578,
          198.84776306152344,
          152.30062866210938,
          154.32931518554688,
          143.52322387695312,
          137.0590362548828,
          151.3658447265625,
          185.5198974609375,
          160.39920043945312,
          141.58741760253906,
          144.5402069091797,
          136.35806274414062,
          126.67167663574219,
          145.31765747070312,
          177.14456176757812,
          160.62167358398438,
          139.0241241455078,
          148.22787475585938,
          133.3134765625,
          131.54244995117188,
          136.67276000976562,
          171.46334838867188,
          155.37171936035156,
          136.5270538330078,
          140.13800048828125,
          130.13168334960938,
          129.19912719726562,
          137.5083770751953,
          174.07150268554688,
          154.5415496826172
         ]
        }
       ],
       "layout": {
        "template": {
         "data": {
          "bar": [
           {
            "error_x": {
             "color": "#2a3f5f"
            },
            "error_y": {
             "color": "#2a3f5f"
            },
            "marker": {
             "line": {
              "color": "#E5ECF6",
              "width": 0.5
             },
             "pattern": {
              "fillmode": "overlay",
              "size": 10,
              "solidity": 0.2
             }
            },
            "type": "bar"
           }
          ],
          "barpolar": [
           {
            "marker": {
             "line": {
              "color": "#E5ECF6",
              "width": 0.5
             },
             "pattern": {
              "fillmode": "overlay",
              "size": 10,
              "solidity": 0.2
             }
            },
            "type": "barpolar"
           }
          ],
          "carpet": [
           {
            "aaxis": {
             "endlinecolor": "#2a3f5f",
             "gridcolor": "white",
             "linecolor": "white",
             "minorgridcolor": "white",
             "startlinecolor": "#2a3f5f"
            },
            "baxis": {
             "endlinecolor": "#2a3f5f",
             "gridcolor": "white",
             "linecolor": "white",
             "minorgridcolor": "white",
             "startlinecolor": "#2a3f5f"
            },
            "type": "carpet"
           }
          ],
          "choropleth": [
           {
            "colorbar": {
             "outlinewidth": 0,
             "ticks": ""
            },
            "type": "choropleth"
           }
          ],
          "contour": [
           {
            "colorbar": {
             "outlinewidth": 0,
             "ticks": ""
            },
            "colorscale": [
             [
              0,
              "#0d0887"
             ],
             [
              0.1111111111111111,
              "#46039f"
             ],
             [
              0.2222222222222222,
              "#7201a8"
             ],
             [
              0.3333333333333333,
              "#9c179e"
             ],
             [
              0.4444444444444444,
              "#bd3786"
             ],
             [
              0.5555555555555556,
              "#d8576b"
             ],
             [
              0.6666666666666666,
              "#ed7953"
             ],
             [
              0.7777777777777778,
              "#fb9f3a"
             ],
             [
              0.8888888888888888,
              "#fdca26"
             ],
             [
              1,
              "#f0f921"
             ]
            ],
            "type": "contour"
           }
          ],
          "contourcarpet": [
           {
            "colorbar": {
             "outlinewidth": 0,
             "ticks": ""
            },
            "type": "contourcarpet"
           }
          ],
          "heatmap": [
           {
            "colorbar": {
             "outlinewidth": 0,
             "ticks": ""
            },
            "colorscale": [
             [
              0,
              "#0d0887"
             ],
             [
              0.1111111111111111,
              "#46039f"
             ],
             [
              0.2222222222222222,
              "#7201a8"
             ],
             [
              0.3333333333333333,
              "#9c179e"
             ],
             [
              0.4444444444444444,
              "#bd3786"
             ],
             [
              0.5555555555555556,
              "#d8576b"
             ],
             [
              0.6666666666666666,
              "#ed7953"
             ],
             [
              0.7777777777777778,
              "#fb9f3a"
             ],
             [
              0.8888888888888888,
              "#fdca26"
             ],
             [
              1,
              "#f0f921"
             ]
            ],
            "type": "heatmap"
           }
          ],
          "heatmapgl": [
           {
            "colorbar": {
             "outlinewidth": 0,
             "ticks": ""
            },
            "colorscale": [
             [
              0,
              "#0d0887"
             ],
             [
              0.1111111111111111,
              "#46039f"
             ],
             [
              0.2222222222222222,
              "#7201a8"
             ],
             [
              0.3333333333333333,
              "#9c179e"
             ],
             [
              0.4444444444444444,
              "#bd3786"
             ],
             [
              0.5555555555555556,
              "#d8576b"
             ],
             [
              0.6666666666666666,
              "#ed7953"
             ],
             [
              0.7777777777777778,
              "#fb9f3a"
             ],
             [
              0.8888888888888888,
              "#fdca26"
             ],
             [
              1,
              "#f0f921"
             ]
            ],
            "type": "heatmapgl"
           }
          ],
          "histogram": [
           {
            "marker": {
             "pattern": {
              "fillmode": "overlay",
              "size": 10,
              "solidity": 0.2
             }
            },
            "type": "histogram"
           }
          ],
          "histogram2d": [
           {
            "colorbar": {
             "outlinewidth": 0,
             "ticks": ""
            },
            "colorscale": [
             [
              0,
              "#0d0887"
             ],
             [
              0.1111111111111111,
              "#46039f"
             ],
             [
              0.2222222222222222,
              "#7201a8"
             ],
             [
              0.3333333333333333,
              "#9c179e"
             ],
             [
              0.4444444444444444,
              "#bd3786"
             ],
             [
              0.5555555555555556,
              "#d8576b"
             ],
             [
              0.6666666666666666,
              "#ed7953"
             ],
             [
              0.7777777777777778,
              "#fb9f3a"
             ],
             [
              0.8888888888888888,
              "#fdca26"
             ],
             [
              1,
              "#f0f921"
             ]
            ],
            "type": "histogram2d"
           }
          ],
          "histogram2dcontour": [
           {
            "colorbar": {
             "outlinewidth": 0,
             "ticks": ""
            },
            "colorscale": [
             [
              0,
              "#0d0887"
             ],
             [
              0.1111111111111111,
              "#46039f"
             ],
             [
              0.2222222222222222,
              "#7201a8"
             ],
             [
              0.3333333333333333,
              "#9c179e"
             ],
             [
              0.4444444444444444,
              "#bd3786"
             ],
             [
              0.5555555555555556,
              "#d8576b"
             ],
             [
              0.6666666666666666,
              "#ed7953"
             ],
             [
              0.7777777777777778,
              "#fb9f3a"
             ],
             [
              0.8888888888888888,
              "#fdca26"
             ],
             [
              1,
              "#f0f921"
             ]
            ],
            "type": "histogram2dcontour"
           }
          ],
          "mesh3d": [
           {
            "colorbar": {
             "outlinewidth": 0,
             "ticks": ""
            },
            "type": "mesh3d"
           }
          ],
          "parcoords": [
           {
            "line": {
             "colorbar": {
              "outlinewidth": 0,
              "ticks": ""
             }
            },
            "type": "parcoords"
           }
          ],
          "pie": [
           {
            "automargin": true,
            "type": "pie"
           }
          ],
          "scatter": [
           {
            "fillpattern": {
             "fillmode": "overlay",
             "size": 10,
             "solidity": 0.2
            },
            "type": "scatter"
           }
          ],
          "scatter3d": [
           {
            "line": {
             "colorbar": {
              "outlinewidth": 0,
              "ticks": ""
             }
            },
            "marker": {
             "colorbar": {
              "outlinewidth": 0,
              "ticks": ""
             }
            },
            "type": "scatter3d"
           }
          ],
          "scattercarpet": [
           {
            "marker": {
             "colorbar": {
              "outlinewidth": 0,
              "ticks": ""
             }
            },
            "type": "scattercarpet"
           }
          ],
          "scattergeo": [
           {
            "marker": {
             "colorbar": {
              "outlinewidth": 0,
              "ticks": ""
             }
            },
            "type": "scattergeo"
           }
          ],
          "scattergl": [
           {
            "marker": {
             "colorbar": {
              "outlinewidth": 0,
              "ticks": ""
             }
            },
            "type": "scattergl"
           }
          ],
          "scattermapbox": [
           {
            "marker": {
             "colorbar": {
              "outlinewidth": 0,
              "ticks": ""
             }
            },
            "type": "scattermapbox"
           }
          ],
          "scatterpolar": [
           {
            "marker": {
             "colorbar": {
              "outlinewidth": 0,
              "ticks": ""
             }
            },
            "type": "scatterpolar"
           }
          ],
          "scatterpolargl": [
           {
            "marker": {
             "colorbar": {
              "outlinewidth": 0,
              "ticks": ""
             }
            },
            "type": "scatterpolargl"
           }
          ],
          "scatterternary": [
           {
            "marker": {
             "colorbar": {
              "outlinewidth": 0,
              "ticks": ""
             }
            },
            "type": "scatterternary"
           }
          ],
          "surface": [
           {
            "colorbar": {
             "outlinewidth": 0,
             "ticks": ""
            },
            "colorscale": [
             [
              0,
              "#0d0887"
             ],
             [
              0.1111111111111111,
              "#46039f"
             ],
             [
              0.2222222222222222,
              "#7201a8"
             ],
             [
              0.3333333333333333,
              "#9c179e"
             ],
             [
              0.4444444444444444,
              "#bd3786"
             ],
             [
              0.5555555555555556,
              "#d8576b"
             ],
             [
              0.6666666666666666,
              "#ed7953"
             ],
             [
              0.7777777777777778,
              "#fb9f3a"
             ],
             [
              0.8888888888888888,
              "#fdca26"
             ],
             [
              1,
              "#f0f921"
             ]
            ],
            "type": "surface"
           }
          ],
          "table": [
           {
            "cells": {
             "fill": {
              "color": "#EBF0F8"
             },
             "line": {
              "color": "white"
             }
            },
            "header": {
             "fill": {
              "color": "#C8D4E3"
             },
             "line": {
              "color": "white"
             }
            },
            "type": "table"
           }
          ]
         },
         "layout": {
          "annotationdefaults": {
           "arrowcolor": "#2a3f5f",
           "arrowhead": 0,
           "arrowwidth": 1
          },
          "autotypenumbers": "strict",
          "coloraxis": {
           "colorbar": {
            "outlinewidth": 0,
            "ticks": ""
           }
          },
          "colorscale": {
           "diverging": [
            [
             0,
             "#8e0152"
            ],
            [
             0.1,
             "#c51b7d"
            ],
            [
             0.2,
             "#de77ae"
            ],
            [
             0.3,
             "#f1b6da"
            ],
            [
             0.4,
             "#fde0ef"
            ],
            [
             0.5,
             "#f7f7f7"
            ],
            [
             0.6,
             "#e6f5d0"
            ],
            [
             0.7,
             "#b8e186"
            ],
            [
             0.8,
             "#7fbc41"
            ],
            [
             0.9,
             "#4d9221"
            ],
            [
             1,
             "#276419"
            ]
           ],
           "sequential": [
            [
             0,
             "#0d0887"
            ],
            [
             0.1111111111111111,
             "#46039f"
            ],
            [
             0.2222222222222222,
             "#7201a8"
            ],
            [
             0.3333333333333333,
             "#9c179e"
            ],
            [
             0.4444444444444444,
             "#bd3786"
            ],
            [
             0.5555555555555556,
             "#d8576b"
            ],
            [
             0.6666666666666666,
             "#ed7953"
            ],
            [
             0.7777777777777778,
             "#fb9f3a"
            ],
            [
             0.8888888888888888,
             "#fdca26"
            ],
            [
             1,
             "#f0f921"
            ]
           ],
           "sequentialminus": [
            [
             0,
             "#0d0887"
            ],
            [
             0.1111111111111111,
             "#46039f"
            ],
            [
             0.2222222222222222,
             "#7201a8"
            ],
            [
             0.3333333333333333,
             "#9c179e"
            ],
            [
             0.4444444444444444,
             "#bd3786"
            ],
            [
             0.5555555555555556,
             "#d8576b"
            ],
            [
             0.6666666666666666,
             "#ed7953"
            ],
            [
             0.7777777777777778,
             "#fb9f3a"
            ],
            [
             0.8888888888888888,
             "#fdca26"
            ],
            [
             1,
             "#f0f921"
            ]
           ]
          },
          "colorway": [
           "#636efa",
           "#EF553B",
           "#00cc96",
           "#ab63fa",
           "#FFA15A",
           "#19d3f3",
           "#FF6692",
           "#B6E880",
           "#FF97FF",
           "#FECB52"
          ],
          "font": {
           "color": "#2a3f5f"
          },
          "geo": {
           "bgcolor": "white",
           "lakecolor": "white",
           "landcolor": "#E5ECF6",
           "showlakes": true,
           "showland": true,
           "subunitcolor": "white"
          },
          "hoverlabel": {
           "align": "left"
          },
          "hovermode": "closest",
          "mapbox": {
           "style": "light"
          },
          "paper_bgcolor": "white",
          "plot_bgcolor": "#E5ECF6",
          "polar": {
           "angularaxis": {
            "gridcolor": "white",
            "linecolor": "white",
            "ticks": ""
           },
           "bgcolor": "#E5ECF6",
           "radialaxis": {
            "gridcolor": "white",
            "linecolor": "white",
            "ticks": ""
           }
          },
          "scene": {
           "xaxis": {
            "backgroundcolor": "#E5ECF6",
            "gridcolor": "white",
            "gridwidth": 2,
            "linecolor": "white",
            "showbackground": true,
            "ticks": "",
            "zerolinecolor": "white"
           },
           "yaxis": {
            "backgroundcolor": "#E5ECF6",
            "gridcolor": "white",
            "gridwidth": 2,
            "linecolor": "white",
            "showbackground": true,
            "ticks": "",
            "zerolinecolor": "white"
           },
           "zaxis": {
            "backgroundcolor": "#E5ECF6",
            "gridcolor": "white",
            "gridwidth": 2,
            "linecolor": "white",
            "showbackground": true,
            "ticks": "",
            "zerolinecolor": "white"
           }
          },
          "shapedefaults": {
           "line": {
            "color": "#2a3f5f"
           }
          },
          "ternary": {
           "aaxis": {
            "gridcolor": "white",
            "linecolor": "white",
            "ticks": ""
           },
           "baxis": {
            "gridcolor": "white",
            "linecolor": "white",
            "ticks": ""
           },
           "bgcolor": "#E5ECF6",
           "caxis": {
            "gridcolor": "white",
            "linecolor": "white",
            "ticks": ""
           }
          },
          "title": {
           "x": 0.05
          },
          "xaxis": {
           "automargin": true,
           "gridcolor": "white",
           "linecolor": "white",
           "ticks": "",
           "title": {
            "standoff": 15
           },
           "zerolinecolor": "white",
           "zerolinewidth": 2
          },
          "yaxis": {
           "automargin": true,
           "gridcolor": "white",
           "linecolor": "white",
           "ticks": "",
           "title": {
            "standoff": 15
           },
           "zerolinecolor": "white",
           "zerolinewidth": 2
          }
         }
        }
       }
      }
     },
     "metadata": {},
     "output_type": "display_data"
    }
   ],
   "source": [
    "\n",
    "plotMe = evaluateMe[lambda x: (x.Branch == \"1\") & (x.Group == \"1\")]\n",
    "plot = go.Figure()\n",
    "plot.add_trace(go.Scatter(x=plotMe[\"Date\"], y=plotMe[\"Sales\"],name=\"Sales\"))\n",
    "plot.add_trace(go.Scatter(x=plotMe[\"Date\"], y=plotMe[\"Prediction\"],name=\"Prediction\"))\n",
    "plot.show()"
   ]
  }
 ],
 "metadata": {
  "kernelspec": {
   "display_name": "Python 3",
   "language": "python",
   "name": "python3"
  },
  "language_info": {
   "codemirror_mode": {
    "name": "ipython",
    "version": 3
   },
   "file_extension": ".py",
   "mimetype": "text/x-python",
   "name": "python",
   "nbconvert_exporter": "python",
   "pygments_lexer": "ipython3",
   "version": "3.10.0"
  },
  "orig_nbformat": 4
 },
 "nbformat": 4,
 "nbformat_minor": 2
}
